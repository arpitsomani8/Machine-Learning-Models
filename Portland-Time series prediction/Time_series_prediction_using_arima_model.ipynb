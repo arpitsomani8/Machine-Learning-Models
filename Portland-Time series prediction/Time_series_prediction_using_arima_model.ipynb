{
 "cells": [
  {
   "cell_type": "code",
   "execution_count": 1,
   "metadata": {
    "id": "XiB1sN4UvwCb"
   },
   "outputs": [],
   "source": [
    "import pandas as pd\n",
    "import numpy as np\n",
    "import matplotlib.pyplot as plt\n",
    "%matplotlib inline"
   ]
  },
  {
   "cell_type": "code",
   "execution_count": 2,
   "metadata": {
    "id": "9cvUKtfIwBLa"
   },
   "outputs": [],
   "source": [
    "data=pd.read_csv('/content/portland.csv')"
   ]
  },
  {
   "cell_type": "code",
   "execution_count": 3,
   "metadata": {
    "colab": {
     "base_uri": "https://localhost:8080/",
     "height": 223
    },
    "id": "3r3woysXSEYA",
    "outputId": "b94292a4-a41c-4c6b-95f3-742e99b49e3c"
   },
   "outputs": [
    {
     "data": {
      "text/html": [
       "<div>\n",
       "<style scoped>\n",
       "    .dataframe tbody tr th:only-of-type {\n",
       "        vertical-align: middle;\n",
       "    }\n",
       "\n",
       "    .dataframe tbody tr th {\n",
       "        vertical-align: top;\n",
       "    }\n",
       "\n",
       "    .dataframe thead th {\n",
       "        text-align: right;\n",
       "    }\n",
       "</style>\n",
       "<table border=\"1\" class=\"dataframe\">\n",
       "  <thead>\n",
       "    <tr style=\"text-align: right;\">\n",
       "      <th></th>\n",
       "      <th>Month</th>\n",
       "      <th>Portland Oregon average monthly bus ridership (/100) January 1973 through June 1982, n=114</th>\n",
       "    </tr>\n",
       "  </thead>\n",
       "  <tbody>\n",
       "    <tr>\n",
       "      <th>0</th>\n",
       "      <td>1960-01</td>\n",
       "      <td>648</td>\n",
       "    </tr>\n",
       "    <tr>\n",
       "      <th>1</th>\n",
       "      <td>1960-02</td>\n",
       "      <td>646</td>\n",
       "    </tr>\n",
       "    <tr>\n",
       "      <th>2</th>\n",
       "      <td>1960-03</td>\n",
       "      <td>639</td>\n",
       "    </tr>\n",
       "    <tr>\n",
       "      <th>3</th>\n",
       "      <td>1960-04</td>\n",
       "      <td>654</td>\n",
       "    </tr>\n",
       "    <tr>\n",
       "      <th>4</th>\n",
       "      <td>1960-05</td>\n",
       "      <td>630</td>\n",
       "    </tr>\n",
       "  </tbody>\n",
       "</table>\n",
       "</div>"
      ],
      "text/plain": [
       "     Month Portland Oregon average monthly bus ridership (/100) January 1973 through June 1982, n=114\n",
       "0  1960-01                                                648                                        \n",
       "1  1960-02                                                646                                        \n",
       "2  1960-03                                                639                                        \n",
       "3  1960-04                                                654                                        \n",
       "4  1960-05                                                630                                        "
      ]
     },
     "execution_count": 3,
     "metadata": {
      "tags": []
     },
     "output_type": "execute_result"
    }
   ],
   "source": [
    "data.head()"
   ]
  },
  {
   "cell_type": "code",
   "execution_count": 4,
   "metadata": {
    "id": "lwCZn40_wZOT"
   },
   "outputs": [],
   "source": [
    "data.columns=[\"Month\",\"average monthly bus ride\"]"
   ]
  },
  {
   "cell_type": "code",
   "execution_count": 5,
   "metadata": {
    "colab": {
     "base_uri": "https://localhost:8080/"
    },
    "id": "wRHYk8pswbs7",
    "outputId": "9b42022d-dc97-474f-8e8e-cccc2bcbc78b"
   },
   "outputs": [
    {
     "data": {
      "text/plain": [
       "(115, 2)"
      ]
     },
     "execution_count": 5,
     "metadata": {
      "tags": []
     },
     "output_type": "execute_result"
    }
   ],
   "source": [
    "data.shape"
   ]
  },
  {
   "cell_type": "code",
   "execution_count": 6,
   "metadata": {
    "colab": {
     "base_uri": "https://localhost:8080/"
    },
    "id": "MR5H2yFHM5ms",
    "outputId": "266aa968-5df2-4d71-e08d-6e09d62a6481"
   },
   "outputs": [
    {
     "data": {
      "text/plain": [
       "Month                       0\n",
       "average monthly bus ride    0\n",
       "dtype: int64"
      ]
     },
     "execution_count": 6,
     "metadata": {
      "tags": []
     },
     "output_type": "execute_result"
    }
   ],
   "source": [
    "data.isnull().sum()"
   ]
  },
  {
   "cell_type": "code",
   "execution_count": 7,
   "metadata": {
    "colab": {
     "base_uri": "https://localhost:8080/"
    },
    "id": "YXBFcnoFPv5h",
    "outputId": "bd18f4f6-5b4b-45ff-8216-d67e236bc452"
   },
   "outputs": [
    {
     "name": "stdout",
     "output_type": "stream",
     "text": [
      "<class 'pandas.core.frame.DataFrame'>\n",
      "RangeIndex: 115 entries, 0 to 114\n",
      "Data columns (total 2 columns):\n",
      " #   Column                    Non-Null Count  Dtype \n",
      "---  ------                    --------------  ----- \n",
      " 0   Month                     115 non-null    object\n",
      " 1   average monthly bus ride  115 non-null    object\n",
      "dtypes: object(2)\n",
      "memory usage: 1.9+ KB\n"
     ]
    }
   ],
   "source": [
    "data.info()"
   ]
  },
  {
   "cell_type": "code",
   "execution_count": 8,
   "metadata": {
    "id": "sLRTgXdEPyU8"
   },
   "outputs": [],
   "source": [
    "data['Month']=pd.to_datetime(data['Month'],errors='coerce',format='%Y-%m')"
   ]
  },
  {
   "cell_type": "code",
   "execution_count": 9,
   "metadata": {
    "colab": {
     "base_uri": "https://localhost:8080/"
    },
    "id": "FOcHZx41Qa86",
    "outputId": "fe510454-b01e-4783-f389-b5b1d145d088"
   },
   "outputs": [
    {
     "name": "stdout",
     "output_type": "stream",
     "text": [
      "<class 'pandas.core.frame.DataFrame'>\n",
      "RangeIndex: 115 entries, 0 to 114\n",
      "Data columns (total 2 columns):\n",
      " #   Column                    Non-Null Count  Dtype         \n",
      "---  ------                    --------------  -----         \n",
      " 0   Month                     114 non-null    datetime64[ns]\n",
      " 1   average monthly bus ride  115 non-null    object        \n",
      "dtypes: datetime64[ns](1), object(1)\n",
      "memory usage: 1.9+ KB\n"
     ]
    }
   ],
   "source": [
    "data.info()"
   ]
  },
  {
   "cell_type": "code",
   "execution_count": 10,
   "metadata": {
    "colab": {
     "base_uri": "https://localhost:8080/",
     "height": 424
    },
    "id": "w3CvOzjPQi0Q",
    "outputId": "540450dd-844b-41e5-99fa-2af86e75092e"
   },
   "outputs": [
    {
     "data": {
      "text/html": [
       "<div>\n",
       "<style scoped>\n",
       "    .dataframe tbody tr th:only-of-type {\n",
       "        vertical-align: middle;\n",
       "    }\n",
       "\n",
       "    .dataframe tbody tr th {\n",
       "        vertical-align: top;\n",
       "    }\n",
       "\n",
       "    .dataframe thead th {\n",
       "        text-align: right;\n",
       "    }\n",
       "</style>\n",
       "<table border=\"1\" class=\"dataframe\">\n",
       "  <thead>\n",
       "    <tr style=\"text-align: right;\">\n",
       "      <th></th>\n",
       "      <th>Month</th>\n",
       "      <th>average monthly bus ride</th>\n",
       "    </tr>\n",
       "  </thead>\n",
       "  <tbody>\n",
       "    <tr>\n",
       "      <th>0</th>\n",
       "      <td>1960-01-01</td>\n",
       "      <td>648</td>\n",
       "    </tr>\n",
       "    <tr>\n",
       "      <th>1</th>\n",
       "      <td>1960-02-01</td>\n",
       "      <td>646</td>\n",
       "    </tr>\n",
       "    <tr>\n",
       "      <th>2</th>\n",
       "      <td>1960-03-01</td>\n",
       "      <td>639</td>\n",
       "    </tr>\n",
       "    <tr>\n",
       "      <th>3</th>\n",
       "      <td>1960-04-01</td>\n",
       "      <td>654</td>\n",
       "    </tr>\n",
       "    <tr>\n",
       "      <th>4</th>\n",
       "      <td>1960-05-01</td>\n",
       "      <td>630</td>\n",
       "    </tr>\n",
       "    <tr>\n",
       "      <th>...</th>\n",
       "      <td>...</td>\n",
       "      <td>...</td>\n",
       "    </tr>\n",
       "    <tr>\n",
       "      <th>110</th>\n",
       "      <td>1969-03-01</td>\n",
       "      <td>1419</td>\n",
       "    </tr>\n",
       "    <tr>\n",
       "      <th>111</th>\n",
       "      <td>1969-04-01</td>\n",
       "      <td>1432</td>\n",
       "    </tr>\n",
       "    <tr>\n",
       "      <th>112</th>\n",
       "      <td>1969-05-01</td>\n",
       "      <td>1394</td>\n",
       "    </tr>\n",
       "    <tr>\n",
       "      <th>113</th>\n",
       "      <td>1969-06-01</td>\n",
       "      <td>1327</td>\n",
       "    </tr>\n",
       "    <tr>\n",
       "      <th>114</th>\n",
       "      <td>NaT</td>\n",
       "      <td>n=114</td>\n",
       "    </tr>\n",
       "  </tbody>\n",
       "</table>\n",
       "<p>115 rows × 2 columns</p>\n",
       "</div>"
      ],
      "text/plain": [
       "         Month average monthly bus ride\n",
       "0   1960-01-01                      648\n",
       "1   1960-02-01                      646\n",
       "2   1960-03-01                      639\n",
       "3   1960-04-01                      654\n",
       "4   1960-05-01                      630\n",
       "..         ...                      ...\n",
       "110 1969-03-01                     1419\n",
       "111 1969-04-01                     1432\n",
       "112 1969-05-01                     1394\n",
       "113 1969-06-01                     1327\n",
       "114        NaT                    n=114\n",
       "\n",
       "[115 rows x 2 columns]"
      ]
     },
     "execution_count": 10,
     "metadata": {
      "tags": []
     },
     "output_type": "execute_result"
    }
   ],
   "source": [
    "data"
   ]
  },
  {
   "cell_type": "code",
   "execution_count": 11,
   "metadata": {
    "colab": {
     "base_uri": "https://localhost:8080/"
    },
    "id": "FIDCMoYSSkPg",
    "outputId": "8758d035-c258-4ba5-e1ac-d9d81f4ee9e8"
   },
   "outputs": [
    {
     "data": {
      "text/plain": [
       "Month                       1\n",
       "average monthly bus ride    0\n",
       "dtype: int64"
      ]
     },
     "execution_count": 11,
     "metadata": {
      "tags": []
     },
     "output_type": "execute_result"
    }
   ],
   "source": [
    "data.isnull().sum()"
   ]
  },
  {
   "cell_type": "code",
   "execution_count": 12,
   "metadata": {
    "id": "x2I_0IbhRu9O"
   },
   "outputs": [],
   "source": [
    "data.dropna(subset=['Month'],inplace=True)"
   ]
  },
  {
   "cell_type": "code",
   "execution_count": 13,
   "metadata": {
    "colab": {
     "base_uri": "https://localhost:8080/"
    },
    "id": "rXoiH5MSSvTB",
    "outputId": "cbee6d28-f788-40a1-ae50-9aed9ddc8e1a"
   },
   "outputs": [
    {
     "data": {
      "text/plain": [
       "Month                       0\n",
       "average monthly bus ride    0\n",
       "dtype: int64"
      ]
     },
     "execution_count": 13,
     "metadata": {
      "tags": []
     },
     "output_type": "execute_result"
    }
   ],
   "source": [
    "data.isnull().sum()"
   ]
  },
  {
   "cell_type": "code",
   "execution_count": 14,
   "metadata": {
    "colab": {
     "base_uri": "https://localhost:8080/"
    },
    "id": "1o584xG0Sx2x",
    "outputId": "ac127376-fd19-46d1-e7bd-7d5065bec943"
   },
   "outputs": [
    {
     "data": {
      "text/plain": [
       "(114, 2)"
      ]
     },
     "execution_count": 14,
     "metadata": {
      "tags": []
     },
     "output_type": "execute_result"
    }
   ],
   "source": [
    "data.shape"
   ]
  },
  {
   "cell_type": "code",
   "execution_count": 15,
   "metadata": {
    "id": "vHwQ1NnrRBO-"
   },
   "outputs": [],
   "source": [
    "data.set_index('Month',inplace=True)"
   ]
  },
  {
   "cell_type": "code",
   "execution_count": 16,
   "metadata": {
    "colab": {
     "base_uri": "https://localhost:8080/",
     "height": 237
    },
    "id": "7BsEsPDORRu5",
    "outputId": "10cb2c15-885a-471e-efff-bdcfb23bf5a7"
   },
   "outputs": [
    {
     "data": {
      "text/html": [
       "<div>\n",
       "<style scoped>\n",
       "    .dataframe tbody tr th:only-of-type {\n",
       "        vertical-align: middle;\n",
       "    }\n",
       "\n",
       "    .dataframe tbody tr th {\n",
       "        vertical-align: top;\n",
       "    }\n",
       "\n",
       "    .dataframe thead th {\n",
       "        text-align: right;\n",
       "    }\n",
       "</style>\n",
       "<table border=\"1\" class=\"dataframe\">\n",
       "  <thead>\n",
       "    <tr style=\"text-align: right;\">\n",
       "      <th></th>\n",
       "      <th>average monthly bus ride</th>\n",
       "    </tr>\n",
       "    <tr>\n",
       "      <th>Month</th>\n",
       "      <th></th>\n",
       "    </tr>\n",
       "  </thead>\n",
       "  <tbody>\n",
       "    <tr>\n",
       "      <th>1960-01-01</th>\n",
       "      <td>648</td>\n",
       "    </tr>\n",
       "    <tr>\n",
       "      <th>1960-02-01</th>\n",
       "      <td>646</td>\n",
       "    </tr>\n",
       "    <tr>\n",
       "      <th>1960-03-01</th>\n",
       "      <td>639</td>\n",
       "    </tr>\n",
       "    <tr>\n",
       "      <th>1960-04-01</th>\n",
       "      <td>654</td>\n",
       "    </tr>\n",
       "    <tr>\n",
       "      <th>1960-05-01</th>\n",
       "      <td>630</td>\n",
       "    </tr>\n",
       "  </tbody>\n",
       "</table>\n",
       "</div>"
      ],
      "text/plain": [
       "           average monthly bus ride\n",
       "Month                              \n",
       "1960-01-01                      648\n",
       "1960-02-01                      646\n",
       "1960-03-01                      639\n",
       "1960-04-01                      654\n",
       "1960-05-01                      630"
      ]
     },
     "execution_count": 16,
     "metadata": {
      "tags": []
     },
     "output_type": "execute_result"
    }
   ],
   "source": [
    "data.head()"
   ]
  },
  {
   "cell_type": "code",
   "execution_count": 17,
   "metadata": {
    "colab": {
     "base_uri": "https://localhost:8080/"
    },
    "id": "ot71sM5aTp-4",
    "outputId": "1b11362f-29b0-4bb7-9064-227687419c4e"
   },
   "outputs": [
    {
     "data": {
      "text/plain": [
       "average monthly bus ride    object\n",
       "dtype: object"
      ]
     },
     "execution_count": 17,
     "metadata": {
      "tags": []
     },
     "output_type": "execute_result"
    }
   ],
   "source": [
    "data.dtypes"
   ]
  },
  {
   "cell_type": "code",
   "execution_count": 18,
   "metadata": {
    "id": "P-Tk-oTcT56X"
   },
   "outputs": [],
   "source": [
    "data['average monthly bus ride']=data['average monthly bus ride'].astype(int)"
   ]
  },
  {
   "cell_type": "code",
   "execution_count": 19,
   "metadata": {
    "colab": {
     "base_uri": "https://localhost:8080/"
    },
    "id": "-c2CLPAPUC4X",
    "outputId": "ff983a38-575c-42c6-87a4-64923169ec50"
   },
   "outputs": [
    {
     "name": "stdout",
     "output_type": "stream",
     "text": [
      "<class 'pandas.core.frame.DataFrame'>\n",
      "DatetimeIndex: 114 entries, 1960-01-01 to 1969-06-01\n",
      "Data columns (total 1 columns):\n",
      " #   Column                    Non-Null Count  Dtype\n",
      "---  ------                    --------------  -----\n",
      " 0   average monthly bus ride  114 non-null    int64\n",
      "dtypes: int64(1)\n",
      "memory usage: 1.8 KB\n"
     ]
    }
   ],
   "source": [
    "data.info()"
   ]
  },
  {
   "cell_type": "code",
   "execution_count": 20,
   "metadata": {
    "colab": {
     "base_uri": "https://localhost:8080/",
     "height": 300
    },
    "id": "XRbxv9bFUIEg",
    "outputId": "899bc7fd-0c8b-499c-beb5-c779dda1fa78"
   },
   "outputs": [
    {
     "data": {
      "text/plain": [
       "<matplotlib.axes._subplots.AxesSubplot at 0x7f037882a350>"
      ]
     },
     "execution_count": 20,
     "metadata": {
      "tags": []
     },
     "output_type": "execute_result"
    },
    {
     "data": {
      "image/png": "[encoded data removed]",
      "text/plain": [
       "<Figure size 432x288 with 1 Axes>"
      ]
     },
     "metadata": {
      "needs_background": "light",
      "tags": []
     },
     "output_type": "display_data"
    }
   ],
   "source": [
    "data.plot()"
   ]
  },
  {
   "cell_type": "code",
   "execution_count": 21,
   "metadata": {
    "colab": {
     "base_uri": "https://localhost:8080/"
    },
    "id": "oZ8BKBvkUKVI",
    "outputId": "68392040-967c-47dc-afd9-4142f31c8c3c"
   },
   "outputs": [
    {
     "name": "stderr",
     "output_type": "stream",
     "text": [
      "/usr/local/lib/python3.7/dist-packages/statsmodels/tools/_testing.py:19: FutureWarning: pandas.util.testing is deprecated. Use the functions in the public API at pandas.testing instead.\n",
      "  import pandas.util.testing as tm\n"
     ]
    }
   ],
   "source": [
    "from statsmodels.tsa.stattools import adfuller"
   ]
  },
  {
   "cell_type": "code",
   "execution_count": 22,
   "metadata": {
    "colab": {
     "base_uri": "https://localhost:8080/"
    },
    "id": "Qo3_19QmUTI4",
    "outputId": "95e89381-3598-44e9-f754-40e59f7442f4"
   },
   "outputs": [
    {
     "name": "stdout",
     "output_type": "stream",
     "text": [
      "ADF Stataics  -1.5365971444531596\n",
      "p-value 0.5153358797821735\n",
      "critical values 1028.4238367341432\n",
      "Reject null hyppthese, it mean data is not stationary\n"
     ]
    }
   ],
   "source": [
    "x=data['average monthly bus ride']\n",
    "result=adfuller(x)\n",
    "print(\"ADF Stataics \",result[0])\n",
    "print(\"p-value\",result[1])\n",
    "print(\"critical values\",result[5])\n",
    "if result[1]<0.05:\n",
    "  print(\"Rail to reject null hyppthese, it mean data is stationary\")\n",
    "else:\n",
    "  print(\"Reject null hyppthese, it mean data is not stationary\")"
   ]
  },
  {
   "cell_type": "code",
   "execution_count": 23,
   "metadata": {
    "colab": {
     "base_uri": "https://localhost:8080/"
    },
    "id": "JVn7rkgSW1ma",
    "outputId": "924ee278-b72f-43fd-a407-0661d06bb5b1"
   },
   "outputs": [
    {
     "data": {
      "text/plain": [
       "Month\n",
       "1960-01-01       NaN\n",
       "1960-02-01     648.0\n",
       "1960-03-01     646.0\n",
       "1960-04-01     639.0\n",
       "1960-05-01     654.0\n",
       "               ...  \n",
       "1969-02-01    1461.0\n",
       "1969-03-01    1425.0\n",
       "1969-04-01    1419.0\n",
       "1969-05-01    1432.0\n",
       "1969-06-01    1394.0\n",
       "Name: average monthly bus ride, Length: 114, dtype: float64"
      ]
     },
     "execution_count": 23,
     "metadata": {
      "tags": []
     },
     "output_type": "execute_result"
    }
   ],
   "source": [
    "data['average monthly bus ride'].shift(1)"
   ]
  },
  {
   "cell_type": "code",
   "execution_count": 24,
   "metadata": {
    "id": "PSnmUK2bWLgQ"
   },
   "outputs": [],
   "source": [
    "data['avg monthly busride first difference']=data['average monthly bus ride']-data['average monthly bus ride'].shift(1)"
   ]
  },
  {
   "cell_type": "code",
   "execution_count": 25,
   "metadata": {
    "colab": {
     "base_uri": "https://localhost:8080/",
     "height": 237
    },
    "id": "gIPR9ttRWuc0",
    "outputId": "460cf789-b602-40ba-ace7-d106ef675fe7"
   },
   "outputs": [
    {
     "data": {
      "text/html": [
       "<div>\n",
       "<style scoped>\n",
       "    .dataframe tbody tr th:only-of-type {\n",
       "        vertical-align: middle;\n",
       "    }\n",
       "\n",
       "    .dataframe tbody tr th {\n",
       "        vertical-align: top;\n",
       "    }\n",
       "\n",
       "    .dataframe thead th {\n",
       "        text-align: right;\n",
       "    }\n",
       "</style>\n",
       "<table border=\"1\" class=\"dataframe\">\n",
       "  <thead>\n",
       "    <tr style=\"text-align: right;\">\n",
       "      <th></th>\n",
       "      <th>average monthly bus ride</th>\n",
       "      <th>avg monthly busride first difference</th>\n",
       "    </tr>\n",
       "    <tr>\n",
       "      <th>Month</th>\n",
       "      <th></th>\n",
       "      <th></th>\n",
       "    </tr>\n",
       "  </thead>\n",
       "  <tbody>\n",
       "    <tr>\n",
       "      <th>1960-01-01</th>\n",
       "      <td>648</td>\n",
       "      <td>NaN</td>\n",
       "    </tr>\n",
       "    <tr>\n",
       "      <th>1960-02-01</th>\n",
       "      <td>646</td>\n",
       "      <td>-2.0</td>\n",
       "    </tr>\n",
       "    <tr>\n",
       "      <th>1960-03-01</th>\n",
       "      <td>639</td>\n",
       "      <td>-7.0</td>\n",
       "    </tr>\n",
       "    <tr>\n",
       "      <th>1960-04-01</th>\n",
       "      <td>654</td>\n",
       "      <td>15.0</td>\n",
       "    </tr>\n",
       "    <tr>\n",
       "      <th>1960-05-01</th>\n",
       "      <td>630</td>\n",
       "      <td>-24.0</td>\n",
       "    </tr>\n",
       "  </tbody>\n",
       "</table>\n",
       "</div>"
      ],
      "text/plain": [
       "            average monthly bus ride  avg monthly busride first difference\n",
       "Month                                                                     \n",
       "1960-01-01                       648                                   NaN\n",
       "1960-02-01                       646                                  -2.0\n",
       "1960-03-01                       639                                  -7.0\n",
       "1960-04-01                       654                                  15.0\n",
       "1960-05-01                       630                                 -24.0"
      ]
     },
     "execution_count": 25,
     "metadata": {
      "tags": []
     },
     "output_type": "execute_result"
    }
   ],
   "source": [
    "data.head()"
   ]
  },
  {
   "cell_type": "code",
   "execution_count": 26,
   "metadata": {
    "colab": {
     "base_uri": "https://localhost:8080/"
    },
    "id": "Okii591eWxOP",
    "outputId": "02725c31-bfec-4907-a391-886266ddb832"
   },
   "outputs": [
    {
     "name": "stdout",
     "output_type": "stream",
     "text": [
      "ADF Stataics  -1.938696065154843\n",
      "p-value 0.3140818370608509\n",
      "critical values 1019.5692927050794\n",
      "Reject the null hypotheise , it mean data is not stationary\n"
     ]
    }
   ],
   "source": [
    "x=data['avg monthly busride first difference'].dropna() \n",
    "result=adfuller(x)\n",
    "\n",
    "print(\"ADF Stataics \",result[0])\n",
    "print(\"p-value\",result[1])\n",
    "print(\"critical values\",result[5])\n",
    "if result[1]<=0.05:\n",
    "    print(\"fail to reject null hypothese h1 , it mean data is stationary\")\n",
    "else:\n",
    "    print(\"Reject the null hypotheise , it mean data is not stationary\")"
   ]
  },
  {
   "cell_type": "code",
   "execution_count": 27,
   "metadata": {
    "colab": {
     "base_uri": "https://localhost:8080/",
     "height": 297
    },
    "id": "BMyzI_PsXN8Z",
    "outputId": "1f816f60-a195-45fa-b3ce-2f6ae1b87574"
   },
   "outputs": [
    {
     "data": {
      "text/plain": [
       "<matplotlib.axes._subplots.AxesSubplot at 0x7f0368c6cc50>"
      ]
     },
     "execution_count": 27,
     "metadata": {
      "tags": []
     },
     "output_type": "execute_result"
    },
    {
     "data": {
      "image/png": "[encoded data removed]",
      "text/plain": [
       "<Figure size 432x288 with 1 Axes>"
      ]
     },
     "metadata": {
      "needs_background": "light",
      "tags": []
     },
     "output_type": "display_data"
    }
   ],
   "source": [
    "data['avg monthly busride first difference'].plot()"
   ]
  },
  {
   "cell_type": "code",
   "execution_count": 28,
   "metadata": {
    "id": "VR2nWQwDXPWH"
   },
   "outputs": [],
   "source": [
    "data['avg monthly busride second difference']=data['average monthly bus ride']-data['average monthly bus ride'].shift(12)"
   ]
  },
  {
   "cell_type": "code",
   "execution_count": 29,
   "metadata": {
    "colab": {
     "base_uri": "https://localhost:8080/",
     "height": 412
    },
    "id": "wTvPN_hQXQyy",
    "outputId": "ffa1e0f3-8b11-4670-ffac-5a9c68603e0b"
   },
   "outputs": [
    {
     "data": {
      "text/html": [
       "<div>\n",
       "<style scoped>\n",
       "    .dataframe tbody tr th:only-of-type {\n",
       "        vertical-align: middle;\n",
       "    }\n",
       "\n",
       "    .dataframe tbody tr th {\n",
       "        vertical-align: top;\n",
       "    }\n",
       "\n",
       "    .dataframe thead th {\n",
       "        text-align: right;\n",
       "    }\n",
       "</style>\n",
       "<table border=\"1\" class=\"dataframe\">\n",
       "  <thead>\n",
       "    <tr style=\"text-align: right;\">\n",
       "      <th></th>\n",
       "      <th>average monthly bus ride</th>\n",
       "      <th>avg monthly busride first difference</th>\n",
       "      <th>avg monthly busride second difference</th>\n",
       "    </tr>\n",
       "    <tr>\n",
       "      <th>Month</th>\n",
       "      <th></th>\n",
       "      <th></th>\n",
       "      <th></th>\n",
       "    </tr>\n",
       "  </thead>\n",
       "  <tbody>\n",
       "    <tr>\n",
       "      <th>1960-01-01</th>\n",
       "      <td>648</td>\n",
       "      <td>NaN</td>\n",
       "      <td>NaN</td>\n",
       "    </tr>\n",
       "    <tr>\n",
       "      <th>1960-02-01</th>\n",
       "      <td>646</td>\n",
       "      <td>-2.0</td>\n",
       "      <td>NaN</td>\n",
       "    </tr>\n",
       "    <tr>\n",
       "      <th>1960-03-01</th>\n",
       "      <td>639</td>\n",
       "      <td>-7.0</td>\n",
       "      <td>NaN</td>\n",
       "    </tr>\n",
       "    <tr>\n",
       "      <th>1960-04-01</th>\n",
       "      <td>654</td>\n",
       "      <td>15.0</td>\n",
       "      <td>NaN</td>\n",
       "    </tr>\n",
       "    <tr>\n",
       "      <th>1960-05-01</th>\n",
       "      <td>630</td>\n",
       "      <td>-24.0</td>\n",
       "      <td>NaN</td>\n",
       "    </tr>\n",
       "    <tr>\n",
       "      <th>1960-06-01</th>\n",
       "      <td>622</td>\n",
       "      <td>-8.0</td>\n",
       "      <td>NaN</td>\n",
       "    </tr>\n",
       "    <tr>\n",
       "      <th>1960-07-01</th>\n",
       "      <td>617</td>\n",
       "      <td>-5.0</td>\n",
       "      <td>NaN</td>\n",
       "    </tr>\n",
       "    <tr>\n",
       "      <th>1960-08-01</th>\n",
       "      <td>613</td>\n",
       "      <td>-4.0</td>\n",
       "      <td>NaN</td>\n",
       "    </tr>\n",
       "    <tr>\n",
       "      <th>1960-09-01</th>\n",
       "      <td>661</td>\n",
       "      <td>48.0</td>\n",
       "      <td>NaN</td>\n",
       "    </tr>\n",
       "    <tr>\n",
       "      <th>1960-10-01</th>\n",
       "      <td>695</td>\n",
       "      <td>34.0</td>\n",
       "      <td>NaN</td>\n",
       "    </tr>\n",
       "  </tbody>\n",
       "</table>\n",
       "</div>"
      ],
      "text/plain": [
       "            average monthly bus ride  ...  avg monthly busride second difference\n",
       "Month                                 ...                                       \n",
       "1960-01-01                       648  ...                                    NaN\n",
       "1960-02-01                       646  ...                                    NaN\n",
       "1960-03-01                       639  ...                                    NaN\n",
       "1960-04-01                       654  ...                                    NaN\n",
       "1960-05-01                       630  ...                                    NaN\n",
       "1960-06-01                       622  ...                                    NaN\n",
       "1960-07-01                       617  ...                                    NaN\n",
       "1960-08-01                       613  ...                                    NaN\n",
       "1960-09-01                       661  ...                                    NaN\n",
       "1960-10-01                       695  ...                                    NaN\n",
       "\n",
       "[10 rows x 3 columns]"
      ]
     },
     "execution_count": 29,
     "metadata": {
      "tags": []
     },
     "output_type": "execute_result"
    }
   ],
   "source": [
    "data.head(10)"
   ]
  },
  {
   "cell_type": "code",
   "execution_count": 30,
   "metadata": {
    "colab": {
     "base_uri": "https://localhost:8080/"
    },
    "id": "yb3G3cI2XR8G",
    "outputId": "23087e79-7690-4f50-b763-b40a730a92e8"
   },
   "outputs": [
    {
     "name": "stdout",
     "output_type": "stream",
     "text": [
      "ADF Stataics  -2.469740563531968\n",
      "p-value 0.12301141534048143\n",
      "critical values 901.5419314445506\n",
      "fail to reject null hypothese h1 , it mean data is stationary\n"
     ]
    }
   ],
   "source": [
    "x=data['avg monthly busride second difference'].dropna() # learn about result's returns values..\n",
    "result=adfuller(x)\n",
    "#result[0]\n",
    "print(\"ADF Stataics \",result[0])\n",
    "print(\"p-value\",result[1])\n",
    "print(\"critical values\",result[5])\n",
    "if result[1]<=0.5:\n",
    "    print(\"fail to reject null hypothese h1 , it mean data is stationary\")\n",
    "else:\n",
    "    print(\"Reject the null hypotheise , it mean data is not stationary\")"
   ]
  },
  {
   "cell_type": "code",
   "execution_count": 31,
   "metadata": {
    "colab": {
     "base_uri": "https://localhost:8080/",
     "height": 297
    },
    "id": "1bQMzS5bXULn",
    "outputId": "d4326192-65cf-4c6d-9188-e6332cf098f1"
   },
   "outputs": [
    {
     "data": {
      "text/plain": [
       "<matplotlib.axes._subplots.AxesSubplot at 0x7f0360363b10>"
      ]
     },
     "execution_count": 31,
     "metadata": {
      "tags": []
     },
     "output_type": "execute_result"
    },
    {
     "data": {
      "image/png": "[encoded data removed]",
      "text/plain": [
       "<Figure size 432x288 with 1 Axes>"
      ]
     },
     "metadata": {
      "needs_background": "light",
      "tags": []
     },
     "output_type": "display_data"
    }
   ],
   "source": [
    "data['avg monthly busride second difference'].plot()"
   ]
  },
  {
   "cell_type": "code",
   "execution_count": 32,
   "metadata": {
    "id": "V9ck-eH3XV8X"
   },
   "outputs": [],
   "source": [
    "from statsmodels.graphics.tsaplots import plot_acf,plot_pacf\n"
   ]
  },
  {
   "cell_type": "code",
   "execution_count": 33,
   "metadata": {
    "colab": {
     "base_uri": "https://localhost:8080/",
     "height": 545
    },
    "id": "8s1_DBvTXXt-",
    "outputId": "e1951479-2297-4588-9925-252d6125e811"
   },
   "outputs": [
    {
     "data": {
      "image/png": "[encoded data removed]",
      "text/plain": [
       "<Figure size 432x288 with 1 Axes>"
      ]
     },
     "execution_count": 33,
     "metadata": {
      "tags": []
     },
     "output_type": "execute_result"
    },
    {
     "data": {
      "image/png": "[encoded data removed]",
      "text/plain": [
       "<Figure size 432x288 with 1 Axes>"
      ]
     },
     "metadata": {
      "needs_background": "light",
      "tags": []
     },
     "output_type": "display_data"
    }
   ],
   "source": [
    "plot_acf(data['avg monthly busride first difference'].iloc[1:],lags=30)"
   ]
  },
  {
   "cell_type": "code",
   "execution_count": 34,
   "metadata": {
    "colab": {
     "base_uri": "https://localhost:8080/",
     "height": 545
    },
    "id": "amrclVDeXal-",
    "outputId": "22de604a-03db-4ae0-dd4c-1fe31997e4ae"
   },
   "outputs": [
    {
     "data": {
      "image/png": "[encoded data removed]",
      "text/plain": [
       "<Figure size 432x288 with 1 Axes>"
      ]
     },
     "execution_count": 34,
     "metadata": {
      "tags": []
     },
     "output_type": "execute_result"
    },
    {
     "data": {
      "image/png": "[encoded data removed]",
      "text/plain": [
       "<Figure size 432x288 with 1 Axes>"
      ]
     },
     "metadata": {
      "needs_background": "light",
      "tags": []
     },
     "output_type": "display_data"
    }
   ],
   "source": [
    "plot_pacf(data['avg monthly busride first difference'].iloc[1:],lags=30)"
   ]
  },
  {
   "cell_type": "markdown",
   "metadata": {
    "id": "3qZoBK-xXdDI"
   },
   "source": [
    "# **Its ARMA Model**"
   ]
  },
  {
   "cell_type": "code",
   "execution_count": 35,
   "metadata": {
    "id": "duAN7ZsFXhAJ"
   },
   "outputs": [],
   "source": [
    "from statsmodels.tsa.arima_model import ARMA"
   ]
  },
  {
   "cell_type": "code",
   "execution_count": 36,
   "metadata": {
    "colab": {
     "base_uri": "https://localhost:8080/"
    },
    "id": "cPsapRR1Xilu",
    "outputId": "4689ba0d-ae43-48f2-98df-e3260cfffb1f"
   },
   "outputs": [
    {
     "name": "stderr",
     "output_type": "stream",
     "text": [
      "/usr/local/lib/python3.7/dist-packages/statsmodels/tsa/base/tsa_model.py:165: ValueWarning: No frequency information was provided, so inferred frequency MS will be used.\n",
      "  % freq, ValueWarning)\n",
      "/usr/local/lib/python3.7/dist-packages/statsmodels/tsa/tsatools.py:668: RuntimeWarning: overflow encountered in exp\n",
      "  newparams = ((1-np.exp(-params))/(1+np.exp(-params))).copy()\n",
      "/usr/local/lib/python3.7/dist-packages/statsmodels/tsa/tsatools.py:668: RuntimeWarning: invalid value encountered in true_divide\n",
      "  newparams = ((1-np.exp(-params))/(1+np.exp(-params))).copy()\n",
      "/usr/local/lib/python3.7/dist-packages/statsmodels/tsa/tsatools.py:669: RuntimeWarning: overflow encountered in exp\n",
      "  tmp = ((1-np.exp(-params))/(1+np.exp(-params))).copy()\n",
      "/usr/local/lib/python3.7/dist-packages/statsmodels/tsa/tsatools.py:669: RuntimeWarning: invalid value encountered in true_divide\n",
      "  tmp = ((1-np.exp(-params))/(1+np.exp(-params))).copy()\n",
      "/usr/local/lib/python3.7/dist-packages/statsmodels/base/model.py:492: HessianInversionWarning: Inverting hessian failed, no bse or cov_params available\n",
      "  'available', HessianInversionWarning)\n",
      "/usr/local/lib/python3.7/dist-packages/statsmodels/base/model.py:512: ConvergenceWarning: Maximum Likelihood optimization failed to converge. Check mle_retvals\n",
      "  \"Check mle_retvals\", ConvergenceWarning)\n"
     ]
    }
   ],
   "source": [
    "model=ARMA(data['average monthly bus ride'],order=(2,2))\n",
    "model_fit=model.fit()"
   ]
  },
  {
   "cell_type": "code",
   "execution_count": 37,
   "metadata": {
    "colab": {
     "base_uri": "https://localhost:8080/",
     "height": 499
    },
    "id": "hFT-L4guXj2g",
    "outputId": "e17d5297-b223-4879-b550-64f499eb05f5"
   },
   "outputs": [
    {
     "name": "stderr",
     "output_type": "stream",
     "text": [
      "/usr/local/lib/python3.7/dist-packages/statsmodels/tsa/arima_model.py:1441: RuntimeWarning: invalid value encountered in sqrt\n",
      "  return np.sqrt(np.diag(-inv(hess)))\n"
     ]
    },
    {
     "data": {
      "text/html": [
       "<table class=\"simpletable\">\n",
       "<caption>ARMA Model Results</caption>\n",
       "<tr>\n",
       "  <th>Dep. Variable:</th> <td>average monthly bus ride</td> <th>  No. Observations:  </th>    <td>114</td>  \n",
       "</tr>\n",
       "<tr>\n",
       "  <th>Model:</th>                <td>ARMA(2, 2)</td>        <th>  Log Likelihood     </th> <td>-625.279</td>\n",
       "</tr>\n",
       "<tr>\n",
       "  <th>Method:</th>                 <td>css-mle</td>         <th>  S.D. of innovations</th>  <td>56.721</td> \n",
       "</tr>\n",
       "<tr>\n",
       "  <th>Date:</th>              <td>Mon, 12 Jul 2021</td>     <th>  AIC                </th> <td>1262.559</td>\n",
       "</tr>\n",
       "<tr>\n",
       "  <th>Time:</th>                  <td>10:58:26</td>         <th>  BIC                </th> <td>1278.976</td>\n",
       "</tr>\n",
       "<tr>\n",
       "  <th>Sample:</th>               <td>01-01-1960</td>        <th>  HQIC               </th> <td>1269.222</td>\n",
       "</tr>\n",
       "<tr>\n",
       "  <th></th>                     <td>- 06-01-1969</td>       <th>                     </th>     <td> </td>   \n",
       "</tr>\n",
       "</table>\n",
       "<table class=\"simpletable\">\n",
       "<tr>\n",
       "                 <td></td>                   <th>coef</th>     <th>std err</th>      <th>z</th>      <th>P>|z|</th>  <th>[0.025</th>    <th>0.975]</th>  \n",
       "</tr>\n",
       "<tr>\n",
       "  <th>const</th>                          <td> 1686.6169</td> <td>      nan</td> <td>      nan</td> <td>   nan</td> <td>      nan</td> <td>      nan</td>\n",
       "</tr>\n",
       "<tr>\n",
       "  <th>ar.L1.average monthly bus ride</th> <td>    1.9975</td> <td>    0.001</td> <td> 1645.911</td> <td> 0.000</td> <td>    1.995</td> <td>    2.000</td>\n",
       "</tr>\n",
       "<tr>\n",
       "  <th>ar.L2.average monthly bus ride</th> <td>   -0.9976</td> <td>    0.001</td> <td> -756.274</td> <td> 0.000</td> <td>   -1.000</td> <td>   -0.995</td>\n",
       "</tr>\n",
       "<tr>\n",
       "  <th>ma.L1.average monthly bus ride</th> <td>   -1.0902</td> <td>    0.148</td> <td>   -7.360</td> <td> 0.000</td> <td>   -1.380</td> <td>   -0.800</td>\n",
       "</tr>\n",
       "<tr>\n",
       "  <th>ma.L2.average monthly bus ride</th> <td>    0.0902</td> <td>    0.123</td> <td>    0.731</td> <td> 0.466</td> <td>   -0.152</td> <td>    0.332</td>\n",
       "</tr>\n",
       "</table>\n",
       "<table class=\"simpletable\">\n",
       "<caption>Roots</caption>\n",
       "<tr>\n",
       "    <td></td>   <th>            Real</th>  <th>         Imaginary</th> <th>         Modulus</th>  <th>        Frequency</th>\n",
       "</tr>\n",
       "<tr>\n",
       "  <th>AR.1</th> <td>           1.0012</td> <td>          -0.0098j</td> <td>           1.0012</td> <td>          -0.0016</td>\n",
       "</tr>\n",
       "<tr>\n",
       "  <th>AR.2</th> <td>           1.0012</td> <td>          +0.0098j</td> <td>           1.0012</td> <td>           0.0016</td>\n",
       "</tr>\n",
       "<tr>\n",
       "  <th>MA.1</th> <td>           1.0000</td> <td>          +0.0000j</td> <td>           1.0000</td> <td>           0.0000</td>\n",
       "</tr>\n",
       "<tr>\n",
       "  <th>MA.2</th> <td>          11.0912</td> <td>          +0.0000j</td> <td>          11.0912</td> <td>           0.0000</td>\n",
       "</tr>\n",
       "</table>"
      ],
      "text/plain": [
       "<class 'statsmodels.iolib.summary.Summary'>\n",
       "\"\"\"\n",
       "                                 ARMA Model Results                                 \n",
       "====================================================================================\n",
       "Dep. Variable:     average monthly bus ride   No. Observations:                  114\n",
       "Model:                           ARMA(2, 2)   Log Likelihood                -625.279\n",
       "Method:                             css-mle   S.D. of innovations             56.721\n",
       "Date:                      Mon, 12 Jul 2021   AIC                           1262.559\n",
       "Time:                              10:58:26   BIC                           1278.976\n",
       "Sample:                          01-01-1960   HQIC                          1269.222\n",
       "                               - 06-01-1969                                         \n",
       "==================================================================================================\n",
       "                                     coef    std err          z      P>|z|      [0.025      0.975]\n",
       "--------------------------------------------------------------------------------------------------\n",
       "const                           1686.6169        nan        nan        nan         nan         nan\n",
       "ar.L1.average monthly bus ride     1.9975      0.001   1645.911      0.000       1.995       2.000\n",
       "ar.L2.average monthly bus ride    -0.9976      0.001   -756.274      0.000      -1.000      -0.995\n",
       "ma.L1.average monthly bus ride    -1.0902      0.148     -7.360      0.000      -1.380      -0.800\n",
       "ma.L2.average monthly bus ride     0.0902      0.123      0.731      0.466      -0.152       0.332\n",
       "                                    Roots                                    \n",
       "=============================================================================\n",
       "                  Real          Imaginary           Modulus         Frequency\n",
       "-----------------------------------------------------------------------------\n",
       "AR.1            1.0012           -0.0098j            1.0012           -0.0016\n",
       "AR.2            1.0012           +0.0098j            1.0012            0.0016\n",
       "MA.1            1.0000           +0.0000j            1.0000            0.0000\n",
       "MA.2           11.0912           +0.0000j           11.0912            0.0000\n",
       "-----------------------------------------------------------------------------\n",
       "\"\"\""
      ]
     },
     "execution_count": 37,
     "metadata": {
      "tags": []
     },
     "output_type": "execute_result"
    }
   ],
   "source": [
    "model_fit.summary()"
   ]
  },
  {
   "cell_type": "code",
   "execution_count": 38,
   "metadata": {
    "colab": {
     "base_uri": "https://localhost:8080/",
     "height": 354
    },
    "id": "vrWeJhNJXlY7",
    "outputId": "5107c409-87bf-4dd1-8486-29d0527a6192"
   },
   "outputs": [
    {
     "data": {
      "text/plain": [
       "<matplotlib.axes._subplots.AxesSubplot at 0x7f035e0d54d0>"
      ]
     },
     "execution_count": 38,
     "metadata": {
      "tags": []
     },
     "output_type": "execute_result"
    },
    {
     "data": {
      "image/png": "[encoded data removed]",
      "text/plain": [
       "<Figure size 576x360 with 1 Axes>"
      ]
     },
     "metadata": {
      "needs_background": "light",
      "tags": []
     },
     "output_type": "display_data"
    }
   ],
   "source": [
    "data['ARMA_forecast'] = model_fit.predict(start = 92, end= 114, dynamic= True)  \n",
    "data[['average monthly bus ride', 'ARMA_forecast']].plot(figsize=(8, 5)) \n"
   ]
  },
  {
   "cell_type": "markdown",
   "metadata": {
    "id": "MGYrdErOXvKP"
   },
   "source": [
    "# **Its ARIMA Model**"
   ]
  },
  {
   "cell_type": "code",
   "execution_count": 39,
   "metadata": {
    "id": "IeOLsOvHXp-_"
   },
   "outputs": [],
   "source": [
    "from statsmodels.tsa.arima_model import ARIMA"
   ]
  },
  {
   "cell_type": "code",
   "execution_count": 40,
   "metadata": {
    "colab": {
     "base_uri": "https://localhost:8080/"
    },
    "id": "hqpgYAeuXyFJ",
    "outputId": "dc113846-a266-451c-cd39-da4dfbe501e4"
   },
   "outputs": [
    {
     "name": "stderr",
     "output_type": "stream",
     "text": [
      "/usr/local/lib/python3.7/dist-packages/statsmodels/tsa/base/tsa_model.py:165: ValueWarning: No frequency information was provided, so inferred frequency MS will be used.\n",
      "  % freq, ValueWarning)\n",
      "/usr/local/lib/python3.7/dist-packages/statsmodels/tsa/base/tsa_model.py:165: ValueWarning: No frequency information was provided, so inferred frequency MS will be used.\n",
      "  % freq, ValueWarning)\n"
     ]
    }
   ],
   "source": [
    "model1=ARIMA(data['average monthly bus ride'],order=(2,1,2))\n",
    "model_fit1=model1.fit()"
   ]
  },
  {
   "cell_type": "code",
   "execution_count": 41,
   "metadata": {
    "colab": {
     "base_uri": "https://localhost:8080/",
     "height": 442
    },
    "id": "DWIu1A5hX0SH",
    "outputId": "3f72a2d8-db44-4948-a28f-99b4d3c899e2"
   },
   "outputs": [
    {
     "data": {
      "text/html": [
       "<table class=\"simpletable\">\n",
       "<caption>ARIMA Model Results</caption>\n",
       "<tr>\n",
       "  <th>Dep. Variable:</th> <td>D.average monthly bus ride</td> <th>  No. Observations:  </th>    <td>113</td>  \n",
       "</tr>\n",
       "<tr>\n",
       "  <th>Model:</th>               <td>ARIMA(2, 1, 2)</td>       <th>  Log Likelihood     </th> <td>-611.903</td>\n",
       "</tr>\n",
       "<tr>\n",
       "  <th>Method:</th>                  <td>css-mle</td>          <th>  S.D. of innovations</th>  <td>54.314</td> \n",
       "</tr>\n",
       "<tr>\n",
       "  <th>Date:</th>               <td>Mon, 12 Jul 2021</td>      <th>  AIC                </th> <td>1235.807</td>\n",
       "</tr>\n",
       "<tr>\n",
       "  <th>Time:</th>                   <td>10:59:36</td>          <th>  BIC                </th> <td>1252.171</td>\n",
       "</tr>\n",
       "<tr>\n",
       "  <th>Sample:</th>                <td>02-01-1960</td>         <th>  HQIC               </th> <td>1242.447</td>\n",
       "</tr>\n",
       "<tr>\n",
       "  <th></th>                      <td>- 06-01-1969</td>        <th>                     </th>     <td> </td>   \n",
       "</tr>\n",
       "</table>\n",
       "<table class=\"simpletable\">\n",
       "<tr>\n",
       "                  <td></td>                    <th>coef</th>     <th>std err</th>      <th>z</th>      <th>P>|z|</th>  <th>[0.025</th>    <th>0.975]</th>  \n",
       "</tr>\n",
       "<tr>\n",
       "  <th>const</th>                            <td>    6.7323</td> <td>    2.247</td> <td>    2.996</td> <td> 0.003</td> <td>    2.328</td> <td>   11.137</td>\n",
       "</tr>\n",
       "<tr>\n",
       "  <th>ar.L1.D.average monthly bus ride</th> <td>    0.1449</td> <td>    0.274</td> <td>    0.530</td> <td> 0.597</td> <td>   -0.391</td> <td>    0.681</td>\n",
       "</tr>\n",
       "<tr>\n",
       "  <th>ar.L2.D.average monthly bus ride</th> <td>    0.2776</td> <td>    0.238</td> <td>    1.167</td> <td> 0.246</td> <td>   -0.188</td> <td>    0.744</td>\n",
       "</tr>\n",
       "<tr>\n",
       "  <th>ma.L1.D.average monthly bus ride</th> <td>   -0.2315</td> <td>    0.244</td> <td>   -0.949</td> <td> 0.345</td> <td>   -0.710</td> <td>    0.247</td>\n",
       "</tr>\n",
       "<tr>\n",
       "  <th>ma.L2.D.average monthly bus ride</th> <td>   -0.5258</td> <td>    0.223</td> <td>   -2.354</td> <td> 0.020</td> <td>   -0.963</td> <td>   -0.088</td>\n",
       "</tr>\n",
       "</table>\n",
       "<table class=\"simpletable\">\n",
       "<caption>Roots</caption>\n",
       "<tr>\n",
       "    <td></td>   <th>            Real</th>  <th>         Imaginary</th> <th>         Modulus</th>  <th>        Frequency</th>\n",
       "</tr>\n",
       "<tr>\n",
       "  <th>AR.1</th> <td>           1.6548</td> <td>          +0.0000j</td> <td>           1.6548</td> <td>           0.0000</td>\n",
       "</tr>\n",
       "<tr>\n",
       "  <th>AR.2</th> <td>          -2.1768</td> <td>          +0.0000j</td> <td>           2.1768</td> <td>           0.5000</td>\n",
       "</tr>\n",
       "<tr>\n",
       "  <th>MA.1</th> <td>           1.1764</td> <td>          +0.0000j</td> <td>           1.1764</td> <td>           0.0000</td>\n",
       "</tr>\n",
       "<tr>\n",
       "  <th>MA.2</th> <td>          -1.6167</td> <td>          +0.0000j</td> <td>           1.6167</td> <td>           0.5000</td>\n",
       "</tr>\n",
       "</table>"
      ],
      "text/plain": [
       "<class 'statsmodels.iolib.summary.Summary'>\n",
       "\"\"\"\n",
       "                                 ARIMA Model Results                                  \n",
       "======================================================================================\n",
       "Dep. Variable:     D.average monthly bus ride   No. Observations:                  113\n",
       "Model:                         ARIMA(2, 1, 2)   Log Likelihood                -611.903\n",
       "Method:                               css-mle   S.D. of innovations             54.314\n",
       "Date:                        Mon, 12 Jul 2021   AIC                           1235.807\n",
       "Time:                                10:59:36   BIC                           1252.171\n",
       "Sample:                            02-01-1960   HQIC                          1242.447\n",
       "                                 - 06-01-1969                                         \n",
       "====================================================================================================\n",
       "                                       coef    std err          z      P>|z|      [0.025      0.975]\n",
       "----------------------------------------------------------------------------------------------------\n",
       "const                                6.7323      2.247      2.996      0.003       2.328      11.137\n",
       "ar.L1.D.average monthly bus ride     0.1449      0.274      0.530      0.597      -0.391       0.681\n",
       "ar.L2.D.average monthly bus ride     0.2776      0.238      1.167      0.246      -0.188       0.744\n",
       "ma.L1.D.average monthly bus ride    -0.2315      0.244     -0.949      0.345      -0.710       0.247\n",
       "ma.L2.D.average monthly bus ride    -0.5258      0.223     -2.354      0.020      -0.963      -0.088\n",
       "                                    Roots                                    \n",
       "=============================================================================\n",
       "                  Real          Imaginary           Modulus         Frequency\n",
       "-----------------------------------------------------------------------------\n",
       "AR.1            1.6548           +0.0000j            1.6548            0.0000\n",
       "AR.2           -2.1768           +0.0000j            2.1768            0.5000\n",
       "MA.1            1.1764           +0.0000j            1.1764            0.0000\n",
       "MA.2           -1.6167           +0.0000j            1.6167            0.5000\n",
       "-----------------------------------------------------------------------------\n",
       "\"\"\""
      ]
     },
     "execution_count": 41,
     "metadata": {
      "tags": []
     },
     "output_type": "execute_result"
    }
   ],
   "source": [
    "model_fit1.summary()"
   ]
  },
  {
   "cell_type": "code",
   "execution_count": 42,
   "metadata": {
    "colab": {
     "base_uri": "https://localhost:8080/",
     "height": 352
    },
    "id": "teSkCyDCX2Kl",
    "outputId": "d84dfb7e-6f05-45eb-c9f8-f6ee9883172a"
   },
   "outputs": [
    {
     "data": {
      "text/plain": [
       "<matplotlib.axes._subplots.AxesSubplot at 0x7f035dfd1f10>"
      ]
     },
     "execution_count": 42,
     "metadata": {
      "tags": []
     },
     "output_type": "execute_result"
    },
    {
     "data": {
      "image/png": "[encoded data removed]",
      "text/plain": [
       "<Figure size 576x360 with 1 Axes>"
      ]
     },
     "metadata": {
      "needs_background": "light",
      "tags": []
     },
     "output_type": "display_data"
    }
   ],
   "source": [
    "data['forecast_ARIMA'] = model_fit1.predict(start = 92, end= 114, dynamic= True)  \n",
    "data[['average monthly bus ride', 'forecast_ARIMA']].plot(figsize=(8, 5)) \n"
   ]
  },
  {
   "cell_type": "markdown",
   "metadata": {
    "id": "XRYpQIwsX4qU"
   },
   "source": [
    "# Its s+ARIMA"
   ]
  },
  {
   "cell_type": "code",
   "execution_count": 43,
   "metadata": {
    "colab": {
     "base_uri": "https://localhost:8080/"
    },
    "id": "7-qN2e33X5YH",
    "outputId": "fe40e11f-575b-4dab-b398-ba0e0ea42c4b"
   },
   "outputs": [
    {
     "name": "stderr",
     "output_type": "stream",
     "text": [
      "/usr/local/lib/python3.7/dist-packages/statsmodels/tsa/base/tsa_model.py:165: ValueWarning: No frequency information was provided, so inferred frequency MS will be used.\n",
      "  % freq, ValueWarning)\n",
      "/usr/local/lib/python3.7/dist-packages/statsmodels/tsa/statespace/sarimax.py:949: UserWarning: Non-stationary starting autoregressive parameters found. Using zeros as starting parameters.\n",
      "  warn('Non-stationary starting autoregressive parameters'\n",
      "/usr/local/lib/python3.7/dist-packages/statsmodels/tsa/statespace/sarimax.py:961: UserWarning: Non-invertible starting MA parameters found. Using zeros as starting parameters.\n",
      "  warn('Non-invertible starting MA parameters found.'\n",
      "/usr/local/lib/python3.7/dist-packages/statsmodels/base/model.py:512: ConvergenceWarning: Maximum Likelihood optimization failed to converge. Check mle_retvals\n",
      "  \"Check mle_retvals\", ConvergenceWarning)\n"
     ]
    }
   ],
   "source": [
    "import statsmodels.api as sm  \n",
    "\n",
    "model=sm.tsa.statespace.SARIMAX(data['average monthly bus ride'],order=(2,1,2),seasonal_order=(2,1,2,6))\n",
    "result=model.fit()"
   ]
  },
  {
   "cell_type": "code",
   "execution_count": 44,
   "metadata": {
    "colab": {
     "base_uri": "https://localhost:8080/",
     "height": 211
    },
    "id": "QZRUJWvCX7af",
    "outputId": "2969ca90-e075-4742-d753-329a0f4e582a"
   },
   "outputs": [
    {
     "data": {
      "text/plain": [
       "<matplotlib.axes._subplots.AxesSubplot at 0x7f034f7b7e90>"
      ]
     },
     "execution_count": 44,
     "metadata": {
      "tags": []
     },
     "output_type": "execute_result"
    },
    {
     "data": {
      "image/png": "[encoded data removed]",
      "text/plain": [
       "<Figure size 1440x360 with 1 Axes>"
      ]
     },
     "metadata": {
      "needs_background": "light",
      "tags": []
     },
     "output_type": "display_data"
    }
   ],
   "source": [
    "data['forcast_SARIMA_1']=result.predict(start=99, end=112, dynamic=True)\n",
    "data[['average monthly bus ride','forcast_SARIMA_1']].plot(figsize=(20, 5)) "
   ]
  },
  {
   "cell_type": "markdown",
   "metadata": {
    "id": "ig0FYdmlX9YX"
   },
   "source": [
    "# future prediction using SARIMA model"
   ]
  },
  {
   "cell_type": "code",
   "execution_count": 45,
   "metadata": {
    "id": "2TvfNf1MX_91"
   },
   "outputs": [],
   "source": [
    "import datetime\n",
    "from dateutil.relativedelta import relativedelta\n",
    "\n",
    "\n",
    "start = datetime.datetime.strptime(\"1969-07-01\", \"%Y-%m-%d\")\n",
    "\n",
    "date_list = [start + relativedelta(months=x) for x in range(0,12)]\n",
    "future_prediction = pd.DataFrame(index=date_list, columns= data.columns)\n",
    "data = pd.concat([data, future_prediction])\n"
   ]
  },
  {
   "cell_type": "code",
   "execution_count": 46,
   "metadata": {
    "colab": {
     "base_uri": "https://localhost:8080/",
     "height": 376
    },
    "id": "xRcddojlYBh_",
    "outputId": "cf48f472-572d-40db-b143-00f94114eaea"
   },
   "outputs": [
    {
     "data": {
      "image/png": "[encoded data removed]",
      "text/plain": [
       "<Figure size 720x432 with 1 Axes>"
      ]
     },
     "metadata": {
      "needs_background": "light",
      "tags": []
     },
     "output_type": "display_data"
    }
   ],
   "source": [
    "data['future_prediction']=result.predict(start=113, end=130, dynamic=True)\n",
    "data[['average monthly bus ride','future_prediction']].plot(figsize=(10, 6))\n",
    "plt.grid(True)\n"
   ]
  }
 ],
 "metadata": {
  "colab": {
   "name": "time-series-prediction-using-arima model.ipynb",
   "provenance": []
  },
  "kernelspec": {
   "display_name": "Python 3",
   "language": "python",
   "name": "python3"
  },
  "language_info": {
   "codemirror_mode": {
    "name": "ipython",
    "version": 3
   },
   "file_extension": ".py",
   "mimetype": "text/x-python",
   "name": "python",
   "nbconvert_exporter": "python",
   "pygments_lexer": "ipython3",
   "version": "3.7.6"
  }
 },
 "nbformat": 4,
 "nbformat_minor": 1
}
