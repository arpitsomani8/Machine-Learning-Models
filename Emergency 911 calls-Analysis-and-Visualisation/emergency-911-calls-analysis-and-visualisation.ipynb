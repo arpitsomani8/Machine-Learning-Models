{
 "cells": [
  {
   "cell_type": "markdown",
   "metadata": {
    "papermill": {
     "duration": 0.036212,
     "end_time": "2020-10-05T06:48:01.812197",
     "exception": false,
     "start_time": "2020-10-05T06:48:01.775985",
     "status": "completed"
    },
    "tags": []
   },
   "source": [
    "# Emergency - 911 Calls"
   ]
  },
  {
   "cell_type": "markdown",
   "metadata": {
    "papermill": {
     "duration": 0.033951,
     "end_time": "2020-10-05T06:48:01.880397",
     "exception": false,
     "start_time": "2020-10-05T06:48:01.846446",
     "status": "completed"
    },
    "tags": []
   },
   "source": [
    "For this capstone project we will be analyzing some 911 call data from [Kaggle](https://www.kaggle.com/mchirico/montcoalert). The data contains the following fields:\n",
    "\n",
    "* lat : String variable, Latitude\n",
    "* lng: String variable, Longitude\n",
    "* desc: String variable, Description of the Emergency Call\n",
    "* zip: String variable, Zipcode\n",
    "* title: String variable, Title\n",
    "* timeStamp: String variable, YYYY-MM-DD HH:MM:SS\n",
    "* twp: String variable, Township\n",
    "* addr: String variable, Address\n",
    "* e: String variable, Dummy variable (always 1)\n"
   ]
  },
  {
   "cell_type": "markdown",
   "metadata": {
    "papermill": {
     "duration": 0.033691,
     "end_time": "2020-10-05T06:48:01.946895",
     "exception": false,
     "start_time": "2020-10-05T06:48:01.913204",
     "status": "completed"
    },
    "tags": []
   },
   "source": [
    "# Data and Setup"
   ]
  },
  {
   "cell_type": "markdown",
   "metadata": {
    "papermill": {
     "duration": 0.033804,
     "end_time": "2020-10-05T06:48:02.016164",
     "exception": false,
     "start_time": "2020-10-05T06:48:01.982360",
     "status": "completed"
    },
    "tags": []
   },
   "source": [
    "Import numpy and pandas"
   ]
  },
  {
   "cell_type": "code",
   "execution_count": 1,
   "metadata": {
    "execution": {
     "iopub.execute_input": "2020-10-05T06:48:02.088755Z",
     "iopub.status.busy": "2020-10-05T06:48:02.088038Z",
     "iopub.status.idle": "2020-10-05T06:48:02.090958Z",
     "shell.execute_reply": "2020-10-05T06:48:02.090402Z"
    },
    "papermill": {
     "duration": 0.041635,
     "end_time": "2020-10-05T06:48:02.091073",
     "exception": false,
     "start_time": "2020-10-05T06:48:02.049438",
     "status": "completed"
    },
    "tags": []
   },
   "outputs": [],
   "source": [
    "import numpy as np\n",
    "import pandas as pd"
   ]
  },
  {
   "cell_type": "markdown",
   "metadata": {
    "papermill": {
     "duration": 0.033426,
     "end_time": "2020-10-05T06:48:02.159213",
     "exception": false,
     "start_time": "2020-10-05T06:48:02.125787",
     "status": "completed"
    },
    "tags": []
   },
   "source": [
    "Import visualization libraries and set %matplotlib inline."
   ]
  },
  {
   "cell_type": "code",
   "execution_count": 2,
   "metadata": {
    "execution": {
     "iopub.execute_input": "2020-10-05T06:48:02.233545Z",
     "iopub.status.busy": "2020-10-05T06:48:02.232905Z",
     "iopub.status.idle": "2020-10-05T06:48:03.062143Z",
     "shell.execute_reply": "2020-10-05T06:48:03.061567Z"
    },
    "papermill": {
     "duration": 0.869049,
     "end_time": "2020-10-05T06:48:03.062256",
     "exception": false,
     "start_time": "2020-10-05T06:48:02.193207",
     "status": "completed"
    },
    "tags": []
   },
   "outputs": [],
   "source": [
    "import matplotlib.pyplot as plt\n",
    "import seaborn as sns\n",
    "sns.set_style('whitegrid')\n",
    "%matplotlib inline"
   ]
  },
  {
   "cell_type": "markdown",
   "metadata": {
    "papermill": {
     "duration": 0.034488,
     "end_time": "2020-10-05T06:48:03.132241",
     "exception": false,
     "start_time": "2020-10-05T06:48:03.097753",
     "status": "completed"
    },
    "tags": []
   },
   "source": [
    " Read in the csv file as a dataframe called df "
   ]
  },
  {
   "cell_type": "code",
   "execution_count": 3,
   "metadata": {
    "execution": {
     "iopub.execute_input": "2020-10-05T06:48:03.211385Z",
     "iopub.status.busy": "2020-10-05T06:48:03.210742Z",
     "iopub.status.idle": "2020-10-05T06:48:05.671672Z",
     "shell.execute_reply": "2020-10-05T06:48:05.670977Z"
    },
    "papermill": {
     "duration": 2.504828,
     "end_time": "2020-10-05T06:48:05.671812",
     "exception": false,
     "start_time": "2020-10-05T06:48:03.166984",
     "status": "completed"
    },
    "tags": []
   },
   "outputs": [],
   "source": [
    "df=pd.read_csv('../input/montcoalert/911.csv')"
   ]
  },
  {
   "cell_type": "markdown",
   "metadata": {
    "papermill": {
     "duration": 0.0348,
     "end_time": "2020-10-05T06:48:05.742410",
     "exception": false,
     "start_time": "2020-10-05T06:48:05.707610",
     "status": "completed"
    },
    "tags": []
   },
   "source": [
    "Check the info() of the df"
   ]
  },
  {
   "cell_type": "code",
   "execution_count": 4,
   "metadata": {
    "execution": {
     "iopub.execute_input": "2020-10-05T06:48:05.820317Z",
     "iopub.status.busy": "2020-10-05T06:48:05.819169Z",
     "iopub.status.idle": "2020-10-05T06:48:06.200875Z",
     "shell.execute_reply": "2020-10-05T06:48:06.200295Z"
    },
    "papermill": {
     "duration": 0.423458,
     "end_time": "2020-10-05T06:48:06.200987",
     "exception": false,
     "start_time": "2020-10-05T06:48:05.777529",
     "status": "completed"
    },
    "tags": []
   },
   "outputs": [
    {
     "name": "stdout",
     "output_type": "stream",
     "text": [
      "<class 'pandas.core.frame.DataFrame'>\n",
      "RangeIndex: 663522 entries, 0 to 663521\n",
      "Data columns (total 9 columns):\n",
      " #   Column     Non-Null Count   Dtype  \n",
      "---  ------     --------------   -----  \n",
      " 0   lat        663522 non-null  float64\n",
      " 1   lng        663522 non-null  float64\n",
      " 2   desc       663522 non-null  object \n",
      " 3   zip        583323 non-null  float64\n",
      " 4   title      663522 non-null  object \n",
      " 5   timeStamp  663522 non-null  object \n",
      " 6   twp        663229 non-null  object \n",
      " 7   addr       663522 non-null  object \n",
      " 8   e          663522 non-null  int64  \n",
      "dtypes: float64(3), int64(1), object(5)\n",
      "memory usage: 45.6+ MB\n"
     ]
    }
   ],
   "source": [
    "df.info()"
   ]
  },
  {
   "cell_type": "markdown",
   "metadata": {
    "papermill": {
     "duration": 0.035326,
     "end_time": "2020-10-05T06:48:06.272306",
     "exception": false,
     "start_time": "2020-10-05T06:48:06.236980",
     "status": "completed"
    },
    "tags": []
   },
   "source": [
    "Check the head of df"
   ]
  },
  {
   "cell_type": "code",
   "execution_count": 5,
   "metadata": {
    "execution": {
     "iopub.execute_input": "2020-10-05T06:48:06.346408Z",
     "iopub.status.busy": "2020-10-05T06:48:06.345780Z",
     "iopub.status.idle": "2020-10-05T06:48:06.365604Z",
     "shell.execute_reply": "2020-10-05T06:48:06.366111Z"
    },
    "papermill": {
     "duration": 0.058487,
     "end_time": "2020-10-05T06:48:06.366248",
     "exception": false,
     "start_time": "2020-10-05T06:48:06.307761",
     "status": "completed"
    },
    "tags": []
   },
   "outputs": [
    {
     "data": {
      "text/html": [
       "<div>\n",
       "<style scoped>\n",
       "    .dataframe tbody tr th:only-of-type {\n",
       "        vertical-align: middle;\n",
       "    }\n",
       "\n",
       "    .dataframe tbody tr th {\n",
       "        vertical-align: top;\n",
       "    }\n",
       "\n",
       "    .dataframe thead th {\n",
       "        text-align: right;\n",
       "    }\n",
       "</style>\n",
       "<table border=\"1\" class=\"dataframe\">\n",
       "  <thead>\n",
       "    <tr style=\"text-align: right;\">\n",
       "      <th></th>\n",
       "      <th>lat</th>\n",
       "      <th>lng</th>\n",
       "      <th>desc</th>\n",
       "      <th>zip</th>\n",
       "      <th>title</th>\n",
       "      <th>timeStamp</th>\n",
       "      <th>twp</th>\n",
       "      <th>addr</th>\n",
       "      <th>e</th>\n",
       "    </tr>\n",
       "  </thead>\n",
       "  <tbody>\n",
       "    <tr>\n",
       "      <th>0</th>\n",
       "      <td>40.297876</td>\n",
       "      <td>-75.581294</td>\n",
       "      <td>REINDEER CT &amp; DEAD END;  NEW HANOVER; Station ...</td>\n",
       "      <td>19525.0</td>\n",
       "      <td>EMS: BACK PAINS/INJURY</td>\n",
       "      <td>2015-12-10 17:10:52</td>\n",
       "      <td>NEW HANOVER</td>\n",
       "      <td>REINDEER CT &amp; DEAD END</td>\n",
       "      <td>1</td>\n",
       "    </tr>\n",
       "    <tr>\n",
       "      <th>1</th>\n",
       "      <td>40.258061</td>\n",
       "      <td>-75.264680</td>\n",
       "      <td>BRIAR PATH &amp; WHITEMARSH LN;  HATFIELD TOWNSHIP...</td>\n",
       "      <td>19446.0</td>\n",
       "      <td>EMS: DIABETIC EMERGENCY</td>\n",
       "      <td>2015-12-10 17:29:21</td>\n",
       "      <td>HATFIELD TOWNSHIP</td>\n",
       "      <td>BRIAR PATH &amp; WHITEMARSH LN</td>\n",
       "      <td>1</td>\n",
       "    </tr>\n",
       "    <tr>\n",
       "      <th>2</th>\n",
       "      <td>40.121182</td>\n",
       "      <td>-75.351975</td>\n",
       "      <td>HAWS AVE; NORRISTOWN; 2015-12-10 @ 14:39:21-St...</td>\n",
       "      <td>19401.0</td>\n",
       "      <td>Fire: GAS-ODOR/LEAK</td>\n",
       "      <td>2015-12-10 14:39:21</td>\n",
       "      <td>NORRISTOWN</td>\n",
       "      <td>HAWS AVE</td>\n",
       "      <td>1</td>\n",
       "    </tr>\n",
       "    <tr>\n",
       "      <th>3</th>\n",
       "      <td>40.116153</td>\n",
       "      <td>-75.343513</td>\n",
       "      <td>AIRY ST &amp; SWEDE ST;  NORRISTOWN; Station 308A;...</td>\n",
       "      <td>19401.0</td>\n",
       "      <td>EMS: CARDIAC EMERGENCY</td>\n",
       "      <td>2015-12-10 16:47:36</td>\n",
       "      <td>NORRISTOWN</td>\n",
       "      <td>AIRY ST &amp; SWEDE ST</td>\n",
       "      <td>1</td>\n",
       "    </tr>\n",
       "    <tr>\n",
       "      <th>4</th>\n",
       "      <td>40.251492</td>\n",
       "      <td>-75.603350</td>\n",
       "      <td>CHERRYWOOD CT &amp; DEAD END;  LOWER POTTSGROVE; S...</td>\n",
       "      <td>NaN</td>\n",
       "      <td>EMS: DIZZINESS</td>\n",
       "      <td>2015-12-10 16:56:52</td>\n",
       "      <td>LOWER POTTSGROVE</td>\n",
       "      <td>CHERRYWOOD CT &amp; DEAD END</td>\n",
       "      <td>1</td>\n",
       "    </tr>\n",
       "  </tbody>\n",
       "</table>\n",
       "</div>"
      ],
      "text/plain": [
       "         lat        lng                                               desc  \\\n",
       "0  40.297876 -75.581294  REINDEER CT & DEAD END;  NEW HANOVER; Station ...   \n",
       "1  40.258061 -75.264680  BRIAR PATH & WHITEMARSH LN;  HATFIELD TOWNSHIP...   \n",
       "2  40.121182 -75.351975  HAWS AVE; NORRISTOWN; 2015-12-10 @ 14:39:21-St...   \n",
       "3  40.116153 -75.343513  AIRY ST & SWEDE ST;  NORRISTOWN; Station 308A;...   \n",
       "4  40.251492 -75.603350  CHERRYWOOD CT & DEAD END;  LOWER POTTSGROVE; S...   \n",
       "\n",
       "       zip                    title            timeStamp                twp  \\\n",
       "0  19525.0   EMS: BACK PAINS/INJURY  2015-12-10 17:10:52        NEW HANOVER   \n",
       "1  19446.0  EMS: DIABETIC EMERGENCY  2015-12-10 17:29:21  HATFIELD TOWNSHIP   \n",
       "2  19401.0      Fire: GAS-ODOR/LEAK  2015-12-10 14:39:21         NORRISTOWN   \n",
       "3  19401.0   EMS: CARDIAC EMERGENCY  2015-12-10 16:47:36         NORRISTOWN   \n",
       "4      NaN           EMS: DIZZINESS  2015-12-10 16:56:52   LOWER POTTSGROVE   \n",
       "\n",
       "                         addr  e  \n",
       "0      REINDEER CT & DEAD END  1  \n",
       "1  BRIAR PATH & WHITEMARSH LN  1  \n",
       "2                    HAWS AVE  1  \n",
       "3          AIRY ST & SWEDE ST  1  \n",
       "4    CHERRYWOOD CT & DEAD END  1  "
      ]
     },
     "execution_count": 5,
     "metadata": {},
     "output_type": "execute_result"
    }
   ],
   "source": [
    "df.head()"
   ]
  },
  {
   "cell_type": "markdown",
   "metadata": {
    "papermill": {
     "duration": 0.036717,
     "end_time": "2020-10-05T06:48:06.439582",
     "exception": false,
     "start_time": "2020-10-05T06:48:06.402865",
     "status": "completed"
    },
    "tags": []
   },
   "source": [
    "# Basic Questions"
   ]
  },
  {
   "cell_type": "markdown",
   "metadata": {
    "papermill": {
     "duration": 0.036443,
     "end_time": "2020-10-05T06:48:06.512328",
     "exception": false,
     "start_time": "2020-10-05T06:48:06.475885",
     "status": "completed"
    },
    "tags": []
   },
   "source": [
    "What are the top 5 zipcodes for 911 calls?"
   ]
  },
  {
   "cell_type": "code",
   "execution_count": 6,
   "metadata": {
    "execution": {
     "iopub.execute_input": "2020-10-05T06:48:06.588617Z",
     "iopub.status.busy": "2020-10-05T06:48:06.587931Z",
     "iopub.status.idle": "2020-10-05T06:48:06.602359Z",
     "shell.execute_reply": "2020-10-05T06:48:06.601862Z"
    },
    "papermill": {
     "duration": 0.053871,
     "end_time": "2020-10-05T06:48:06.602489",
     "exception": false,
     "start_time": "2020-10-05T06:48:06.548618",
     "status": "completed"
    },
    "tags": []
   },
   "outputs": [
    {
     "data": {
      "text/plain": [
       "19401.0    45606\n",
       "19464.0    43910\n",
       "19403.0    34888\n",
       "19446.0    32270\n",
       "19406.0    22464\n",
       "Name: zip, dtype: int64"
      ]
     },
     "execution_count": 6,
     "metadata": {},
     "output_type": "execute_result"
    }
   ],
   "source": [
    "df['zip'].value_counts().head(5)"
   ]
  },
  {
   "cell_type": "markdown",
   "metadata": {
    "papermill": {
     "duration": 0.038946,
     "end_time": "2020-10-05T06:48:06.678155",
     "exception": false,
     "start_time": "2020-10-05T06:48:06.639209",
     "status": "completed"
    },
    "tags": []
   },
   "source": [
    "What are the top 5 townships (twp) for 911 calls?"
   ]
  },
  {
   "cell_type": "code",
   "execution_count": 7,
   "metadata": {
    "execution": {
     "iopub.execute_input": "2020-10-05T06:48:06.955178Z",
     "iopub.status.busy": "2020-10-05T06:48:06.954124Z",
     "iopub.status.idle": "2020-10-05T06:48:06.961891Z",
     "shell.execute_reply": "2020-10-05T06:48:06.961317Z"
    },
    "papermill": {
     "duration": 0.231169,
     "end_time": "2020-10-05T06:48:06.962004",
     "exception": false,
     "start_time": "2020-10-05T06:48:06.730835",
     "status": "completed"
    },
    "tags": []
   },
   "outputs": [
    {
     "data": {
      "text/plain": [
       "LOWER MERION    55490\n",
       "ABINGTON        39947\n",
       "NORRISTOWN      37633\n",
       "UPPER MERION    36010\n",
       "CHELTENHAM      30574\n",
       "Name: twp, dtype: int64"
      ]
     },
     "execution_count": 7,
     "metadata": {},
     "output_type": "execute_result"
    }
   ],
   "source": [
    "df['twp'].value_counts().head(5)"
   ]
  },
  {
   "cell_type": "markdown",
   "metadata": {
    "papermill": {
     "duration": 0.039606,
     "end_time": "2020-10-05T06:48:07.040081",
     "exception": false,
     "start_time": "2020-10-05T06:48:07.000475",
     "status": "completed"
    },
    "tags": []
   },
   "source": [
    "Take a look at the 'title' column, how many unique title codes are there?"
   ]
  },
  {
   "cell_type": "code",
   "execution_count": 8,
   "metadata": {
    "execution": {
     "iopub.execute_input": "2020-10-05T06:48:07.159445Z",
     "iopub.status.busy": "2020-10-05T06:48:07.158491Z",
     "iopub.status.idle": "2020-10-05T06:48:07.190989Z",
     "shell.execute_reply": "2020-10-05T06:48:07.190442Z"
    },
    "papermill": {
     "duration": 0.113879,
     "end_time": "2020-10-05T06:48:07.191097",
     "exception": false,
     "start_time": "2020-10-05T06:48:07.077218",
     "status": "completed"
    },
    "tags": []
   },
   "outputs": [
    {
     "data": {
      "text/plain": [
       "148"
      ]
     },
     "execution_count": 8,
     "metadata": {},
     "output_type": "execute_result"
    }
   ],
   "source": [
    "df['title'].nunique()"
   ]
  },
  {
   "cell_type": "markdown",
   "metadata": {
    "papermill": {
     "duration": 0.037132,
     "end_time": "2020-10-05T06:48:07.266171",
     "exception": false,
     "start_time": "2020-10-05T06:48:07.229039",
     "status": "completed"
    },
    "tags": []
   },
   "source": [
    "# Creating new features"
   ]
  },
  {
   "cell_type": "markdown",
   "metadata": {
    "papermill": {
     "duration": 0.037095,
     "end_time": "2020-10-05T06:48:07.340848",
     "exception": false,
     "start_time": "2020-10-05T06:48:07.303753",
     "status": "completed"
    },
    "tags": []
   },
   "source": [
    "In the titles column there are \"Reasons/Departments\" specified before the title code. These are EMS, Fire, and Traffic. Use .apply() with a custom lambda expression to create a new column called \"Reason\" that contains this string value."
   ]
  },
  {
   "cell_type": "markdown",
   "metadata": {
    "papermill": {
     "duration": 0.037528,
     "end_time": "2020-10-05T06:48:07.415983",
     "exception": false,
     "start_time": "2020-10-05T06:48:07.378455",
     "status": "completed"
    },
    "tags": []
   },
   "source": [
    "For example, if the title column value is EMS: BACK PAINS/INJURY , the Reason column value would be EMS."
   ]
  },
  {
   "cell_type": "code",
   "execution_count": 9,
   "metadata": {
    "execution": {
     "iopub.execute_input": "2020-10-05T06:48:07.498592Z",
     "iopub.status.busy": "2020-10-05T06:48:07.497504Z",
     "iopub.status.idle": "2020-10-05T06:48:07.866284Z",
     "shell.execute_reply": "2020-10-05T06:48:07.865627Z"
    },
    "papermill": {
     "duration": 0.412036,
     "end_time": "2020-10-05T06:48:07.866449",
     "exception": false,
     "start_time": "2020-10-05T06:48:07.454413",
     "status": "completed"
    },
    "tags": []
   },
   "outputs": [],
   "source": [
    "df['Reason']=df['title'].apply(lambda x:x.split(':')[0])"
   ]
  },
  {
   "cell_type": "markdown",
   "metadata": {
    "papermill": {
     "duration": 0.037144,
     "end_time": "2020-10-05T06:48:07.941799",
     "exception": false,
     "start_time": "2020-10-05T06:48:07.904655",
     "status": "completed"
    },
    "tags": []
   },
   "source": [
    " What is the most common Reason for a 911 call based off of this new column?"
   ]
  },
  {
   "cell_type": "code",
   "execution_count": 10,
   "metadata": {
    "execution": {
     "iopub.execute_input": "2020-10-05T06:48:08.211253Z",
     "iopub.status.busy": "2020-10-05T06:48:08.210257Z",
     "iopub.status.idle": "2020-10-05T06:48:08.217562Z",
     "shell.execute_reply": "2020-10-05T06:48:08.216907Z"
    },
    "papermill": {
     "duration": 0.23734,
     "end_time": "2020-10-05T06:48:08.217686",
     "exception": false,
     "start_time": "2020-10-05T06:48:07.980346",
     "status": "completed"
    },
    "tags": []
   },
   "outputs": [
    {
     "data": {
      "text/plain": [
       "EMS        332692\n",
       "Traffic    230208\n",
       "Fire       100622\n",
       "Name: Reason, dtype: int64"
      ]
     },
     "execution_count": 10,
     "metadata": {},
     "output_type": "execute_result"
    }
   ],
   "source": [
    "df['Reason'].value_counts()"
   ]
  },
  {
   "cell_type": "markdown",
   "metadata": {
    "papermill": {
     "duration": 0.038266,
     "end_time": "2020-10-05T06:48:08.294796",
     "exception": false,
     "start_time": "2020-10-05T06:48:08.256530",
     "status": "completed"
    },
    "tags": []
   },
   "source": [
    "Now use seaborn to create a countplot of 911 calls by Reason."
   ]
  },
  {
   "cell_type": "code",
   "execution_count": 11,
   "metadata": {
    "execution": {
     "iopub.execute_input": "2020-10-05T06:48:08.414939Z",
     "iopub.status.busy": "2020-10-05T06:48:08.414206Z",
     "iopub.status.idle": "2020-10-05T06:48:08.833670Z",
     "shell.execute_reply": "2020-10-05T06:48:08.834162Z"
    },
    "papermill": {
     "duration": 0.501022,
     "end_time": "2020-10-05T06:48:08.834315",
     "exception": false,
     "start_time": "2020-10-05T06:48:08.333293",
     "status": "completed"
    },
    "tags": []
   },
   "outputs": [
    {
     "data": {
      "text/plain": [
       "<matplotlib.axes._subplots.AxesSubplot at 0x7fdbb2956f10>"
      ]
     },
     "execution_count": 11,
     "metadata": {},
     "output_type": "execute_result"
    },
    {
     "data": {
      "image/png": "[encoded data removed]",
      "text/plain": [
       "<Figure size 432x288 with 1 Axes>"
      ]
     },
     "metadata": {
      "needs_background": "light"
     },
     "output_type": "display_data"
    }
   ],
   "source": [
    "sns.countplot(x='Reason',data=df,palette='viridis')"
   ]
  },
  {
   "cell_type": "markdown",
   "metadata": {
    "papermill": {
     "duration": 0.039578,
     "end_time": "2020-10-05T06:48:08.913528",
     "exception": false,
     "start_time": "2020-10-05T06:48:08.873950",
     "status": "completed"
    },
    "tags": []
   },
   "source": [
    "Now let us begin to focus on time information. What is the data type of the objects in the timeStamp column?"
   ]
  },
  {
   "cell_type": "code",
   "execution_count": 12,
   "metadata": {
    "execution": {
     "iopub.execute_input": "2020-10-05T06:48:08.999418Z",
     "iopub.status.busy": "2020-10-05T06:48:08.998757Z",
     "iopub.status.idle": "2020-10-05T06:48:09.001283Z",
     "shell.execute_reply": "2020-10-05T06:48:09.001783Z"
    },
    "papermill": {
     "duration": 0.048635,
     "end_time": "2020-10-05T06:48:09.001912",
     "exception": false,
     "start_time": "2020-10-05T06:48:08.953277",
     "status": "completed"
    },
    "tags": []
   },
   "outputs": [
    {
     "data": {
      "text/plain": [
       "str"
      ]
     },
     "execution_count": 12,
     "metadata": {},
     "output_type": "execute_result"
    }
   ],
   "source": [
    "type(df['timeStamp'][0])"
   ]
  },
  {
   "cell_type": "markdown",
   "metadata": {
    "papermill": {
     "duration": 0.040075,
     "end_time": "2020-10-05T06:48:09.081410",
     "exception": false,
     "start_time": "2020-10-05T06:48:09.041335",
     "status": "completed"
    },
    "tags": []
   },
   "source": [
    "You should have seen that these timestamps are still strings. Use [pd.to_datetime](http://pandas.pydata.org/pandas-docs/stable/generated/pandas.to_datetime.html) to convert the column from strings to DateTime objects."
   ]
  },
  {
   "cell_type": "code",
   "execution_count": 13,
   "metadata": {
    "execution": {
     "iopub.execute_input": "2020-10-05T06:48:09.164622Z",
     "iopub.status.busy": "2020-10-05T06:48:09.164005Z",
     "iopub.status.idle": "2020-10-05T06:48:09.440096Z",
     "shell.execute_reply": "2020-10-05T06:48:09.439528Z"
    },
    "papermill": {
     "duration": 0.318418,
     "end_time": "2020-10-05T06:48:09.440212",
     "exception": false,
     "start_time": "2020-10-05T06:48:09.121794",
     "status": "completed"
    },
    "tags": []
   },
   "outputs": [],
   "source": [
    "df['timeStamp']=pd.to_datetime(df['timeStamp'])"
   ]
  },
  {
   "cell_type": "markdown",
   "metadata": {
    "papermill": {
     "duration": 0.048214,
     "end_time": "2020-10-05T06:48:09.528810",
     "exception": false,
     "start_time": "2020-10-05T06:48:09.480596",
     "status": "completed"
    },
    "tags": []
   },
   "source": [
    "You can now grab specific attributes from a Datetime object by calling them. For example:**\n",
    "\n",
    "    time = df['timeStamp'].iloc[0]\n",
    "    time.hour\n",
    "\n",
    "**Now that the timestamp column are actually DateTime objects, use .apply() to create 3 new columns called Hour, Month, and Day of Week. You will create these columns based off of the timeStamp column.**"
   ]
  },
  {
   "cell_type": "markdown",
   "metadata": {
    "papermill": {
     "duration": 0.040573,
     "end_time": "2020-10-05T06:48:09.610289",
     "exception": false,
     "start_time": "2020-10-05T06:48:09.569716",
     "status": "completed"
    },
    "tags": []
   },
   "source": [
    "# New Columns for Analysis"
   ]
  },
  {
   "cell_type": "code",
   "execution_count": 14,
   "metadata": {
    "execution": {
     "iopub.execute_input": "2020-10-05T06:48:09.699201Z",
     "iopub.status.busy": "2020-10-05T06:48:09.698570Z",
     "iopub.status.idle": "2020-10-05T06:48:22.815903Z",
     "shell.execute_reply": "2020-10-05T06:48:22.815323Z"
    },
    "papermill": {
     "duration": 13.165195,
     "end_time": "2020-10-05T06:48:22.816019",
     "exception": false,
     "start_time": "2020-10-05T06:48:09.650824",
     "status": "completed"
    },
    "tags": []
   },
   "outputs": [],
   "source": [
    "df['Hour'] = df['timeStamp'].apply(lambda time: time.hour)\n",
    "df['Month'] = df['timeStamp'].apply(lambda time: time.month)\n",
    "df['Day of Week'] = df['timeStamp'].apply(lambda time: time.dayofweek)"
   ]
  },
  {
   "cell_type": "markdown",
   "metadata": {
    "papermill": {
     "duration": 0.040062,
     "end_time": "2020-10-05T06:48:22.896745",
     "exception": false,
     "start_time": "2020-10-05T06:48:22.856683",
     "status": "completed"
    },
    "tags": []
   },
   "source": [
    "Notice how the Day of Week is an integer 0-6. Use the .map() with this dictionary to map the actual string names to the day of the week."
   ]
  },
  {
   "cell_type": "code",
   "execution_count": 15,
   "metadata": {
    "execution": {
     "iopub.execute_input": "2020-10-05T06:48:22.983008Z",
     "iopub.status.busy": "2020-10-05T06:48:22.982383Z",
     "iopub.status.idle": "2020-10-05T06:48:22.984621Z",
     "shell.execute_reply": "2020-10-05T06:48:22.985100Z"
    },
    "papermill": {
     "duration": 0.04765,
     "end_time": "2020-10-05T06:48:22.985226",
     "exception": false,
     "start_time": "2020-10-05T06:48:22.937576",
     "status": "completed"
    },
    "tags": []
   },
   "outputs": [],
   "source": [
    "dmap = {0:'Mon',1:'Tue',2:'Wed',3:'Thu',4:'Fri',5:'Sat',6:'Sun'}"
   ]
  },
  {
   "cell_type": "code",
   "execution_count": 16,
   "metadata": {
    "execution": {
     "iopub.execute_input": "2020-10-05T06:48:23.071635Z",
     "iopub.status.busy": "2020-10-05T06:48:23.070980Z",
     "iopub.status.idle": "2020-10-05T06:48:23.099622Z",
     "shell.execute_reply": "2020-10-05T06:48:23.099054Z"
    },
    "papermill": {
     "duration": 0.074486,
     "end_time": "2020-10-05T06:48:23.099733",
     "exception": false,
     "start_time": "2020-10-05T06:48:23.025247",
     "status": "completed"
    },
    "tags": []
   },
   "outputs": [],
   "source": [
    "df['Day of Week']=df['Day of Week'].map(dmap)"
   ]
  },
  {
   "cell_type": "markdown",
   "metadata": {
    "papermill": {
     "duration": 0.040444,
     "end_time": "2020-10-05T06:48:23.180723",
     "exception": false,
     "start_time": "2020-10-05T06:48:23.140279",
     "status": "completed"
    },
    "tags": []
   },
   "source": [
    "Now use seaborn to create a countplot of the Day of Week column with the hue based off of the Reason column."
   ]
  },
  {
   "cell_type": "code",
   "execution_count": 17,
   "metadata": {
    "execution": {
     "iopub.execute_input": "2020-10-05T06:48:23.335486Z",
     "iopub.status.busy": "2020-10-05T06:48:23.334786Z",
     "iopub.status.idle": "2020-10-05T06:48:24.781298Z",
     "shell.execute_reply": "2020-10-05T06:48:24.781775Z"
    },
    "papermill": {
     "duration": 1.561074,
     "end_time": "2020-10-05T06:48:24.781920",
     "exception": false,
     "start_time": "2020-10-05T06:48:23.220846",
     "status": "completed"
    },
    "tags": []
   },
   "outputs": [
    {
     "data": {
      "text/plain": [
       "<matplotlib.legend.Legend at 0x7fdbaf7a9cd0>"
      ]
     },
     "execution_count": 17,
     "metadata": {},
     "output_type": "execute_result"
    },
    {
     "data": {
      "image/png": "[encoded data removed]",
      "text/plain": [
       "<Figure size 432x288 with 1 Axes>"
      ]
     },
     "metadata": {
      "needs_background": "light"
     },
     "output_type": "display_data"
    }
   ],
   "source": [
    "sns.countplot(x=df['Day of Week'], data=df, hue=df['Reason'],palette='viridis')\n",
    "plt.legend(bbox_to_anchor=(1.05, 1,), loc=2, borderaxespad=0.)"
   ]
  },
  {
   "cell_type": "markdown",
   "metadata": {
    "papermill": {
     "duration": 0.041511,
     "end_time": "2020-10-05T06:48:24.865210",
     "exception": false,
     "start_time": "2020-10-05T06:48:24.823699",
     "status": "completed"
    },
    "tags": []
   },
   "source": [
    "# Plots"
   ]
  },
  {
   "cell_type": "markdown",
   "metadata": {
    "papermill": {
     "duration": 0.041322,
     "end_time": "2020-10-05T06:48:24.948871",
     "exception": false,
     "start_time": "2020-10-05T06:48:24.907549",
     "status": "completed"
    },
    "tags": []
   },
   "source": [
    "**Did you notice something strange about the Plot?**\n",
    "\n",
    "_____\n",
    "\n",
    " You should have noticed it was missing some Months, let's see if we can maybe fill in this information by plotting the information in another way, possibly a simple line plot that fills in the missing months, in order to do this, we'll need to do some work with pandas..."
   ]
  },
  {
   "cell_type": "markdown",
   "metadata": {
    "papermill": {
     "duration": 0.041017,
     "end_time": "2020-10-05T06:48:25.031886",
     "exception": false,
     "start_time": "2020-10-05T06:48:24.990869",
     "status": "completed"
    },
    "tags": []
   },
   "source": [
    "Now create a gropuby object called byMonth, where you group the DataFrame by the month column and use the count() method for aggregation. Use the head() method on this returned DataFrame."
   ]
  },
  {
   "cell_type": "code",
   "execution_count": 18,
   "metadata": {
    "execution": {
     "iopub.execute_input": "2020-10-05T06:48:25.121328Z",
     "iopub.status.busy": "2020-10-05T06:48:25.120680Z",
     "iopub.status.idle": "2020-10-05T06:48:25.805275Z",
     "shell.execute_reply": "2020-10-05T06:48:25.804713Z"
    },
    "papermill": {
     "duration": 0.731701,
     "end_time": "2020-10-05T06:48:25.805382",
     "exception": false,
     "start_time": "2020-10-05T06:48:25.073681",
     "status": "completed"
    },
    "tags": []
   },
   "outputs": [
    {
     "data": {
      "text/html": [
       "<div>\n",
       "<style scoped>\n",
       "    .dataframe tbody tr th:only-of-type {\n",
       "        vertical-align: middle;\n",
       "    }\n",
       "\n",
       "    .dataframe tbody tr th {\n",
       "        vertical-align: top;\n",
       "    }\n",
       "\n",
       "    .dataframe thead th {\n",
       "        text-align: right;\n",
       "    }\n",
       "</style>\n",
       "<table border=\"1\" class=\"dataframe\">\n",
       "  <thead>\n",
       "    <tr style=\"text-align: right;\">\n",
       "      <th></th>\n",
       "      <th>lat</th>\n",
       "      <th>lng</th>\n",
       "      <th>desc</th>\n",
       "      <th>zip</th>\n",
       "      <th>title</th>\n",
       "      <th>timeStamp</th>\n",
       "      <th>twp</th>\n",
       "      <th>addr</th>\n",
       "      <th>e</th>\n",
       "      <th>Reason</th>\n",
       "      <th>Hour</th>\n",
       "      <th>Day of Week</th>\n",
       "    </tr>\n",
       "    <tr>\n",
       "      <th>Month</th>\n",
       "      <th></th>\n",
       "      <th></th>\n",
       "      <th></th>\n",
       "      <th></th>\n",
       "      <th></th>\n",
       "      <th></th>\n",
       "      <th></th>\n",
       "      <th></th>\n",
       "      <th></th>\n",
       "      <th></th>\n",
       "      <th></th>\n",
       "      <th></th>\n",
       "    </tr>\n",
       "  </thead>\n",
       "  <tbody>\n",
       "    <tr>\n",
       "      <th>1</th>\n",
       "      <td>62336</td>\n",
       "      <td>62336</td>\n",
       "      <td>62336</td>\n",
       "      <td>55294</td>\n",
       "      <td>62336</td>\n",
       "      <td>62336</td>\n",
       "      <td>62312</td>\n",
       "      <td>62336</td>\n",
       "      <td>62336</td>\n",
       "      <td>62336</td>\n",
       "      <td>62336</td>\n",
       "      <td>62336</td>\n",
       "    </tr>\n",
       "    <tr>\n",
       "      <th>2</th>\n",
       "      <td>55427</td>\n",
       "      <td>55427</td>\n",
       "      <td>55427</td>\n",
       "      <td>48922</td>\n",
       "      <td>55427</td>\n",
       "      <td>55427</td>\n",
       "      <td>55405</td>\n",
       "      <td>55427</td>\n",
       "      <td>55427</td>\n",
       "      <td>55427</td>\n",
       "      <td>55427</td>\n",
       "      <td>55427</td>\n",
       "    </tr>\n",
       "    <tr>\n",
       "      <th>3</th>\n",
       "      <td>60027</td>\n",
       "      <td>60027</td>\n",
       "      <td>60027</td>\n",
       "      <td>53252</td>\n",
       "      <td>60027</td>\n",
       "      <td>60027</td>\n",
       "      <td>60001</td>\n",
       "      <td>60027</td>\n",
       "      <td>60027</td>\n",
       "      <td>60027</td>\n",
       "      <td>60027</td>\n",
       "      <td>60027</td>\n",
       "    </tr>\n",
       "    <tr>\n",
       "      <th>4</th>\n",
       "      <td>53671</td>\n",
       "      <td>53671</td>\n",
       "      <td>53671</td>\n",
       "      <td>47349</td>\n",
       "      <td>53671</td>\n",
       "      <td>53671</td>\n",
       "      <td>53655</td>\n",
       "      <td>53671</td>\n",
       "      <td>53671</td>\n",
       "      <td>53671</td>\n",
       "      <td>53671</td>\n",
       "      <td>53671</td>\n",
       "    </tr>\n",
       "    <tr>\n",
       "      <th>5</th>\n",
       "      <td>57509</td>\n",
       "      <td>57509</td>\n",
       "      <td>57509</td>\n",
       "      <td>50354</td>\n",
       "      <td>57509</td>\n",
       "      <td>57509</td>\n",
       "      <td>57474</td>\n",
       "      <td>57509</td>\n",
       "      <td>57509</td>\n",
       "      <td>57509</td>\n",
       "      <td>57509</td>\n",
       "      <td>57509</td>\n",
       "    </tr>\n",
       "  </tbody>\n",
       "</table>\n",
       "</div>"
      ],
      "text/plain": [
       "         lat    lng   desc    zip  title  timeStamp    twp   addr      e  \\\n",
       "Month                                                                      \n",
       "1      62336  62336  62336  55294  62336      62336  62312  62336  62336   \n",
       "2      55427  55427  55427  48922  55427      55427  55405  55427  55427   \n",
       "3      60027  60027  60027  53252  60027      60027  60001  60027  60027   \n",
       "4      53671  53671  53671  47349  53671      53671  53655  53671  53671   \n",
       "5      57509  57509  57509  50354  57509      57509  57474  57509  57509   \n",
       "\n",
       "       Reason   Hour  Day of Week  \n",
       "Month                              \n",
       "1       62336  62336        62336  \n",
       "2       55427  55427        55427  \n",
       "3       60027  60027        60027  \n",
       "4       53671  53671        53671  \n",
       "5       57509  57509        57509  "
      ]
     },
     "execution_count": 18,
     "metadata": {},
     "output_type": "execute_result"
    }
   ],
   "source": [
    "byMonth=df.groupby('Month').count()\n",
    "byMonth.head()"
   ]
  },
  {
   "cell_type": "markdown",
   "metadata": {
    "papermill": {
     "duration": 0.042509,
     "end_time": "2020-10-05T06:48:25.891085",
     "exception": false,
     "start_time": "2020-10-05T06:48:25.848576",
     "status": "completed"
    },
    "tags": []
   },
   "source": [
    "Now create a simple plot off of the dataframe indicating the count of calls per month."
   ]
  },
  {
   "cell_type": "code",
   "execution_count": 19,
   "metadata": {
    "execution": {
     "iopub.execute_input": "2020-10-05T06:48:25.982527Z",
     "iopub.status.busy": "2020-10-05T06:48:25.981749Z",
     "iopub.status.idle": "2020-10-05T06:48:26.266035Z",
     "shell.execute_reply": "2020-10-05T06:48:26.265347Z"
    },
    "papermill": {
     "duration": 0.331979,
     "end_time": "2020-10-05T06:48:26.266174",
     "exception": false,
     "start_time": "2020-10-05T06:48:25.934195",
     "status": "completed"
    },
    "tags": []
   },
   "outputs": [
    {
     "data": {
      "text/plain": [
       "<matplotlib.axes._subplots.AxesSubplot at 0x7fdbaf6b6bd0>"
      ]
     },
     "execution_count": 19,
     "metadata": {},
     "output_type": "execute_result"
    },
    {
     "data": {
      "image/png": "[encoded data removed]",
      "text/plain": [
       "<Figure size 432x288 with 1 Axes>"
      ]
     },
     "metadata": {
      "needs_background": "light"
     },
     "output_type": "display_data"
    }
   ],
   "source": [
    "byMonth['twp'].plot()"
   ]
  },
  {
   "cell_type": "markdown",
   "metadata": {
    "papermill": {
     "duration": 0.043054,
     "end_time": "2020-10-05T06:48:26.353088",
     "exception": false,
     "start_time": "2020-10-05T06:48:26.310034",
     "status": "completed"
    },
    "tags": []
   },
   "source": [
    "Now see if you can use seaborn's lmplot() to create a linear fit on the number of calls per month. Keep in mind you may need to reset the index to a column."
   ]
  },
  {
   "cell_type": "code",
   "execution_count": 20,
   "metadata": {
    "execution": {
     "iopub.execute_input": "2020-10-05T06:48:26.458788Z",
     "iopub.status.busy": "2020-10-05T06:48:26.457697Z",
     "iopub.status.idle": "2020-10-05T06:48:27.014562Z",
     "shell.execute_reply": "2020-10-05T06:48:27.014032Z"
    },
    "papermill": {
     "duration": 0.614664,
     "end_time": "2020-10-05T06:48:27.014676",
     "exception": false,
     "start_time": "2020-10-05T06:48:26.400012",
     "status": "completed"
    },
    "tags": []
   },
   "outputs": [
    {
     "data": {
      "text/plain": [
       "<seaborn.axisgrid.FacetGrid at 0x7fdbaf62eed0>"
      ]
     },
     "execution_count": 20,
     "metadata": {},
     "output_type": "execute_result"
    },
    {
     "data": {
      "image/png": "[encoded data removed]",
      "text/plain": [
       "<Figure size 360x360 with 1 Axes>"
      ]
     },
     "metadata": {
      "needs_background": "light"
     },
     "output_type": "display_data"
    }
   ],
   "source": [
    "sns.lmplot(x='Month',y='twp',data=byMonth.reset_index())"
   ]
  },
  {
   "cell_type": "markdown",
   "metadata": {
    "papermill": {
     "duration": 0.045303,
     "end_time": "2020-10-05T06:48:27.105683",
     "exception": false,
     "start_time": "2020-10-05T06:48:27.060380",
     "status": "completed"
    },
    "tags": []
   },
   "source": [
    "Create a new column called 'Date' that contains the date from the timeStamp column. You'll need to use apply along with the .date() method."
   ]
  },
  {
   "cell_type": "code",
   "execution_count": 21,
   "metadata": {
    "execution": {
     "iopub.execute_input": "2020-10-05T06:48:27.204148Z",
     "iopub.status.busy": "2020-10-05T06:48:27.203080Z",
     "iopub.status.idle": "2020-10-05T06:48:31.437669Z",
     "shell.execute_reply": "2020-10-05T06:48:31.436974Z"
    },
    "papermill": {
     "duration": 4.286041,
     "end_time": "2020-10-05T06:48:31.437786",
     "exception": false,
     "start_time": "2020-10-05T06:48:27.151745",
     "status": "completed"
    },
    "tags": []
   },
   "outputs": [],
   "source": [
    "df['Date']=df['timeStamp'].apply(lambda time:time.date())"
   ]
  },
  {
   "cell_type": "markdown",
   "metadata": {
    "papermill": {
     "duration": 0.045122,
     "end_time": "2020-10-05T06:48:31.529150",
     "exception": false,
     "start_time": "2020-10-05T06:48:31.484028",
     "status": "completed"
    },
    "tags": []
   },
   "source": [
    "Now groupby this Date column with the count() aggregate and create a plot of counts of 911 calls."
   ]
  },
  {
   "cell_type": "code",
   "execution_count": 22,
   "metadata": {
    "execution": {
     "iopub.execute_input": "2020-10-05T06:48:31.825570Z",
     "iopub.status.busy": "2020-10-05T06:48:31.803172Z",
     "iopub.status.idle": "2020-10-05T06:48:32.739126Z",
     "shell.execute_reply": "2020-10-05T06:48:32.738508Z"
    },
    "papermill": {
     "duration": 1.164216,
     "end_time": "2020-10-05T06:48:32.739231",
     "exception": false,
     "start_time": "2020-10-05T06:48:31.575015",
     "status": "completed"
    },
    "scrolled": true,
    "tags": []
   },
   "outputs": [
    {
     "data": {
      "image/png": "[encoded data removed]",
      "text/plain": [
       "<Figure size 432x288 with 1 Axes>"
      ]
     },
     "metadata": {
      "needs_background": "light"
     },
     "output_type": "display_data"
    }
   ],
   "source": [
    "df.groupby('Date').count()['twp'].plot()\n",
    "plt.tight_layout()"
   ]
  },
  {
   "cell_type": "markdown",
   "metadata": {
    "papermill": {
     "duration": 0.046471,
     "end_time": "2020-10-05T06:48:32.832277",
     "exception": false,
     "start_time": "2020-10-05T06:48:32.785806",
     "status": "completed"
    },
    "tags": []
   },
   "source": [
    "Now recreate this plot but create 3 separate plots with each plot representing a Reason for the 911 call"
   ]
  },
  {
   "cell_type": "code",
   "execution_count": 23,
   "metadata": {
    "execution": {
     "iopub.execute_input": "2020-10-05T06:48:33.033263Z",
     "iopub.status.busy": "2020-10-05T06:48:33.032582Z",
     "iopub.status.idle": "2020-10-05T06:48:33.551995Z",
     "shell.execute_reply": "2020-10-05T06:48:33.552460Z"
    },
    "papermill": {
     "duration": 0.673802,
     "end_time": "2020-10-05T06:48:33.552606",
     "exception": false,
     "start_time": "2020-10-05T06:48:32.878804",
     "status": "completed"
    },
    "tags": []
   },
   "outputs": [
    {
     "data": {
      "image/png": "[encoded data removed]",
      "text/plain": [
       "<Figure size 432x288 with 1 Axes>"
      ]
     },
     "metadata": {
      "needs_background": "light"
     },
     "output_type": "display_data"
    }
   ],
   "source": [
    "df[df['Reason']=='Traffic'].groupby('Date').count()['twp'].plot()\n",
    "plt.title('Traffic')\n",
    "plt.tight_layout()"
   ]
  },
  {
   "cell_type": "code",
   "execution_count": 24,
   "metadata": {
    "execution": {
     "iopub.execute_input": "2020-10-05T06:48:33.652160Z",
     "iopub.status.busy": "2020-10-05T06:48:33.651156Z",
     "iopub.status.idle": "2020-10-05T06:48:34.131504Z",
     "shell.execute_reply": "2020-10-05T06:48:34.131981Z"
    },
    "papermill": {
     "duration": 0.531478,
     "end_time": "2020-10-05T06:48:34.132126",
     "exception": false,
     "start_time": "2020-10-05T06:48:33.600648",
     "status": "completed"
    },
    "tags": []
   },
   "outputs": [
    {
     "data": {
      "image/png": "[encoded data removed]",
      "text/plain": [
       "<Figure size 432x288 with 1 Axes>"
      ]
     },
     "metadata": {
      "needs_background": "light"
     },
     "output_type": "display_data"
    }
   ],
   "source": [
    "df[df['Reason']=='Fire'].groupby('Date').count()['twp'].plot()\n",
    "plt.title('Fire')\n",
    "plt.tight_layout()"
   ]
  },
  {
   "cell_type": "code",
   "execution_count": 25,
   "metadata": {
    "execution": {
     "iopub.execute_input": "2020-10-05T06:48:34.234220Z",
     "iopub.status.busy": "2020-10-05T06:48:34.233202Z",
     "iopub.status.idle": "2020-10-05T06:48:34.977407Z",
     "shell.execute_reply": "2020-10-05T06:48:34.977903Z"
    },
    "papermill": {
     "duration": 0.796787,
     "end_time": "2020-10-05T06:48:34.978055",
     "exception": false,
     "start_time": "2020-10-05T06:48:34.181268",
     "status": "completed"
    },
    "tags": []
   },
   "outputs": [
    {
     "data": {
      "image/png": "[encoded data removed]",
      "text/plain": [
       "<Figure size 432x288 with 1 Axes>"
      ]
     },
     "metadata": {
      "needs_background": "light"
     },
     "output_type": "display_data"
    }
   ],
   "source": [
    "df[df['Reason']=='EMS'].groupby('Date').count()['twp'].plot()\n",
    "plt.title('EMS')\n",
    "plt.tight_layout()"
   ]
  },
  {
   "cell_type": "markdown",
   "metadata": {
    "papermill": {
     "duration": 0.049917,
     "end_time": "2020-10-05T06:48:35.078068",
     "exception": false,
     "start_time": "2020-10-05T06:48:35.028151",
     "status": "completed"
    },
    "tags": []
   },
   "source": [
    "Now let's move on to creating  heatmaps with seaborn and our data. We'll first need to restructure the dataframe so that the columns become the Hours and the Index becomes the Day of the Week."
   ]
  },
  {
   "cell_type": "code",
   "execution_count": 26,
   "metadata": {
    "execution": {
     "iopub.execute_input": "2020-10-05T06:48:35.182293Z",
     "iopub.status.busy": "2020-10-05T06:48:35.181314Z",
     "iopub.status.idle": "2020-10-05T06:48:35.779762Z",
     "shell.execute_reply": "2020-10-05T06:48:35.779074Z"
    },
    "papermill": {
     "duration": 0.651742,
     "end_time": "2020-10-05T06:48:35.779872",
     "exception": false,
     "start_time": "2020-10-05T06:48:35.128130",
     "status": "completed"
    },
    "tags": []
   },
   "outputs": [
    {
     "data": {
      "text/html": [
       "<div>\n",
       "<style scoped>\n",
       "    .dataframe tbody tr th:only-of-type {\n",
       "        vertical-align: middle;\n",
       "    }\n",
       "\n",
       "    .dataframe tbody tr th {\n",
       "        vertical-align: top;\n",
       "    }\n",
       "\n",
       "    .dataframe thead th {\n",
       "        text-align: right;\n",
       "    }\n",
       "</style>\n",
       "<table border=\"1\" class=\"dataframe\">\n",
       "  <thead>\n",
       "    <tr style=\"text-align: right;\">\n",
       "      <th>Hour</th>\n",
       "      <th>0</th>\n",
       "      <th>1</th>\n",
       "      <th>2</th>\n",
       "      <th>3</th>\n",
       "      <th>4</th>\n",
       "      <th>5</th>\n",
       "      <th>6</th>\n",
       "      <th>7</th>\n",
       "      <th>8</th>\n",
       "      <th>9</th>\n",
       "      <th>...</th>\n",
       "      <th>14</th>\n",
       "      <th>15</th>\n",
       "      <th>16</th>\n",
       "      <th>17</th>\n",
       "      <th>18</th>\n",
       "      <th>19</th>\n",
       "      <th>20</th>\n",
       "      <th>21</th>\n",
       "      <th>22</th>\n",
       "      <th>23</th>\n",
       "    </tr>\n",
       "    <tr>\n",
       "      <th>Day of Week</th>\n",
       "      <th></th>\n",
       "      <th></th>\n",
       "      <th></th>\n",
       "      <th></th>\n",
       "      <th></th>\n",
       "      <th></th>\n",
       "      <th></th>\n",
       "      <th></th>\n",
       "      <th></th>\n",
       "      <th></th>\n",
       "      <th></th>\n",
       "      <th></th>\n",
       "      <th></th>\n",
       "      <th></th>\n",
       "      <th></th>\n",
       "      <th></th>\n",
       "      <th></th>\n",
       "      <th></th>\n",
       "      <th></th>\n",
       "      <th></th>\n",
       "      <th></th>\n",
       "    </tr>\n",
       "  </thead>\n",
       "  <tbody>\n",
       "    <tr>\n",
       "      <th>Fri</th>\n",
       "      <td>1983</td>\n",
       "      <td>1635</td>\n",
       "      <td>1449</td>\n",
       "      <td>1296</td>\n",
       "      <td>1339</td>\n",
       "      <td>1639</td>\n",
       "      <td>2670</td>\n",
       "      <td>4143</td>\n",
       "      <td>5018</td>\n",
       "      <td>5288</td>\n",
       "      <td>...</td>\n",
       "      <td>6394</td>\n",
       "      <td>7040</td>\n",
       "      <td>7065</td>\n",
       "      <td>7113</td>\n",
       "      <td>5668</td>\n",
       "      <td>5056</td>\n",
       "      <td>4375</td>\n",
       "      <td>3913</td>\n",
       "      <td>3422</td>\n",
       "      <td>2834</td>\n",
       "    </tr>\n",
       "    <tr>\n",
       "      <th>Mon</th>\n",
       "      <td>1894</td>\n",
       "      <td>1571</td>\n",
       "      <td>1368</td>\n",
       "      <td>1272</td>\n",
       "      <td>1336</td>\n",
       "      <td>1844</td>\n",
       "      <td>2675</td>\n",
       "      <td>4430</td>\n",
       "      <td>5504</td>\n",
       "      <td>5724</td>\n",
       "      <td>...</td>\n",
       "      <td>5713</td>\n",
       "      <td>6289</td>\n",
       "      <td>6346</td>\n",
       "      <td>6408</td>\n",
       "      <td>5441</td>\n",
       "      <td>4488</td>\n",
       "      <td>3823</td>\n",
       "      <td>3254</td>\n",
       "      <td>2658</td>\n",
       "      <td>2072</td>\n",
       "    </tr>\n",
       "    <tr>\n",
       "      <th>Sat</th>\n",
       "      <td>2447</td>\n",
       "      <td>2059</td>\n",
       "      <td>1883</td>\n",
       "      <td>1592</td>\n",
       "      <td>1451</td>\n",
       "      <td>1580</td>\n",
       "      <td>1880</td>\n",
       "      <td>2489</td>\n",
       "      <td>3457</td>\n",
       "      <td>4315</td>\n",
       "      <td>...</td>\n",
       "      <td>5421</td>\n",
       "      <td>5181</td>\n",
       "      <td>5211</td>\n",
       "      <td>5213</td>\n",
       "      <td>4980</td>\n",
       "      <td>4753</td>\n",
       "      <td>4127</td>\n",
       "      <td>3895</td>\n",
       "      <td>3226</td>\n",
       "      <td>2965</td>\n",
       "    </tr>\n",
       "    <tr>\n",
       "      <th>Sun</th>\n",
       "      <td>2424</td>\n",
       "      <td>2135</td>\n",
       "      <td>1946</td>\n",
       "      <td>1614</td>\n",
       "      <td>1471</td>\n",
       "      <td>1488</td>\n",
       "      <td>1726</td>\n",
       "      <td>2408</td>\n",
       "      <td>3001</td>\n",
       "      <td>3728</td>\n",
       "      <td>...</td>\n",
       "      <td>4744</td>\n",
       "      <td>4475</td>\n",
       "      <td>4560</td>\n",
       "      <td>4505</td>\n",
       "      <td>4402</td>\n",
       "      <td>4135</td>\n",
       "      <td>3748</td>\n",
       "      <td>3161</td>\n",
       "      <td>2629</td>\n",
       "      <td>2323</td>\n",
       "    </tr>\n",
       "    <tr>\n",
       "      <th>Thu</th>\n",
       "      <td>1731</td>\n",
       "      <td>1408</td>\n",
       "      <td>1426</td>\n",
       "      <td>1236</td>\n",
       "      <td>1293</td>\n",
       "      <td>1775</td>\n",
       "      <td>2816</td>\n",
       "      <td>4432</td>\n",
       "      <td>5297</td>\n",
       "      <td>5412</td>\n",
       "      <td>...</td>\n",
       "      <td>6079</td>\n",
       "      <td>6493</td>\n",
       "      <td>6375</td>\n",
       "      <td>6935</td>\n",
       "      <td>5512</td>\n",
       "      <td>4703</td>\n",
       "      <td>4045</td>\n",
       "      <td>3490</td>\n",
       "      <td>2844</td>\n",
       "      <td>2354</td>\n",
       "    </tr>\n",
       "  </tbody>\n",
       "</table>\n",
       "<p>5 rows × 24 columns</p>\n",
       "</div>"
      ],
      "text/plain": [
       "Hour           0     1     2     3     4     5     6     7     8     9   ...  \\\n",
       "Day of Week                                                              ...   \n",
       "Fri          1983  1635  1449  1296  1339  1639  2670  4143  5018  5288  ...   \n",
       "Mon          1894  1571  1368  1272  1336  1844  2675  4430  5504  5724  ...   \n",
       "Sat          2447  2059  1883  1592  1451  1580  1880  2489  3457  4315  ...   \n",
       "Sun          2424  2135  1946  1614  1471  1488  1726  2408  3001  3728  ...   \n",
       "Thu          1731  1408  1426  1236  1293  1775  2816  4432  5297  5412  ...   \n",
       "\n",
       "Hour           14    15    16    17    18    19    20    21    22    23  \n",
       "Day of Week                                                              \n",
       "Fri          6394  7040  7065  7113  5668  5056  4375  3913  3422  2834  \n",
       "Mon          5713  6289  6346  6408  5441  4488  3823  3254  2658  2072  \n",
       "Sat          5421  5181  5211  5213  4980  4753  4127  3895  3226  2965  \n",
       "Sun          4744  4475  4560  4505  4402  4135  3748  3161  2629  2323  \n",
       "Thu          6079  6493  6375  6935  5512  4703  4045  3490  2844  2354  \n",
       "\n",
       "[5 rows x 24 columns]"
      ]
     },
     "execution_count": 26,
     "metadata": {},
     "output_type": "execute_result"
    }
   ],
   "source": [
    "dayHour = df.groupby(by=['Day of Week','Hour']).count()['Reason'].unstack()\n",
    "dayHour.head()"
   ]
  },
  {
   "cell_type": "markdown",
   "metadata": {
    "papermill": {
     "duration": 0.050097,
     "end_time": "2020-10-05T06:48:35.880991",
     "exception": false,
     "start_time": "2020-10-05T06:48:35.830894",
     "status": "completed"
    },
    "tags": []
   },
   "source": [
    "Now create a HeatMap using this new DataFrame."
   ]
  },
  {
   "cell_type": "code",
   "execution_count": 27,
   "metadata": {
    "execution": {
     "iopub.execute_input": "2020-10-05T06:48:36.000062Z",
     "iopub.status.busy": "2020-10-05T06:48:35.997982Z",
     "iopub.status.idle": "2020-10-05T06:48:36.419471Z",
     "shell.execute_reply": "2020-10-05T06:48:36.418938Z"
    },
    "papermill": {
     "duration": 0.486791,
     "end_time": "2020-10-05T06:48:36.419651",
     "exception": false,
     "start_time": "2020-10-05T06:48:35.932860",
     "status": "completed"
    },
    "tags": []
   },
   "outputs": [
    {
     "data": {
      "text/plain": [
       "<matplotlib.axes._subplots.AxesSubplot at 0x7fdba660be90>"
      ]
     },
     "execution_count": 27,
     "metadata": {},
     "output_type": "execute_result"
    },
    {
     "data": {
      "image/png": "[encoded data removed]",
      "text/plain": [
       "<Figure size 864x432 with 2 Axes>"
      ]
     },
     "metadata": {
      "needs_background": "light"
     },
     "output_type": "display_data"
    }
   ],
   "source": [
    "plt.figure(figsize=(12,6))\n",
    "sns.heatmap(dayHour,cmap='viridis')"
   ]
  },
  {
   "cell_type": "markdown",
   "metadata": {
    "papermill": {
     "duration": 0.053542,
     "end_time": "2020-10-05T06:48:36.527337",
     "exception": false,
     "start_time": "2020-10-05T06:48:36.473795",
     "status": "completed"
    },
    "tags": []
   },
   "source": [
    "Now create a clustermap using this DataFrame."
   ]
  },
  {
   "cell_type": "code",
   "execution_count": 28,
   "metadata": {
    "execution": {
     "iopub.execute_input": "2020-10-05T06:48:36.647541Z",
     "iopub.status.busy": "2020-10-05T06:48:36.644735Z",
     "iopub.status.idle": "2020-10-05T06:48:37.403744Z",
     "shell.execute_reply": "2020-10-05T06:48:37.403099Z"
    },
    "papermill": {
     "duration": 0.823785,
     "end_time": "2020-10-05T06:48:37.403853",
     "exception": false,
     "start_time": "2020-10-05T06:48:36.580068",
     "status": "completed"
    },
    "tags": []
   },
   "outputs": [
    {
     "data": {
      "text/plain": [
       "<seaborn.matrix.ClusterGrid at 0x7fdba1c3ea50>"
      ]
     },
     "execution_count": 28,
     "metadata": {},
     "output_type": "execute_result"
    },
    {
     "data": {
      "image/png": "[encoded data removed]",
      "text/plain": [
       "<Figure size 720x720 with 4 Axes>"
      ]
     },
     "metadata": {
      "needs_background": "light"
     },
     "output_type": "display_data"
    }
   ],
   "source": [
    "sns.clustermap(dayHour,cmap='viridis')"
   ]
  },
  {
   "cell_type": "markdown",
   "metadata": {
    "papermill": {
     "duration": 0.052075,
     "end_time": "2020-10-05T06:48:37.510716",
     "exception": false,
     "start_time": "2020-10-05T06:48:37.458641",
     "status": "completed"
    },
    "tags": []
   },
   "source": [
    "Now repeat these same plots and operations, for a DataFrame that shows the Month as the column."
   ]
  },
  {
   "cell_type": "code",
   "execution_count": 29,
   "metadata": {
    "execution": {
     "iopub.execute_input": "2020-10-05T06:48:37.690612Z",
     "iopub.status.busy": "2020-10-05T06:48:37.672625Z",
     "iopub.status.idle": "2020-10-05T06:48:38.230332Z",
     "shell.execute_reply": "2020-10-05T06:48:38.230986Z"
    },
    "papermill": {
     "duration": 0.666465,
     "end_time": "2020-10-05T06:48:38.231124",
     "exception": false,
     "start_time": "2020-10-05T06:48:37.564659",
     "status": "completed"
    },
    "tags": []
   },
   "outputs": [
    {
     "data": {
      "text/html": [
       "<div>\n",
       "<style scoped>\n",
       "    .dataframe tbody tr th:only-of-type {\n",
       "        vertical-align: middle;\n",
       "    }\n",
       "\n",
       "    .dataframe tbody tr th {\n",
       "        vertical-align: top;\n",
       "    }\n",
       "\n",
       "    .dataframe thead th {\n",
       "        text-align: right;\n",
       "    }\n",
       "</style>\n",
       "<table border=\"1\" class=\"dataframe\">\n",
       "  <thead>\n",
       "    <tr style=\"text-align: right;\">\n",
       "      <th>Month</th>\n",
       "      <th>1</th>\n",
       "      <th>2</th>\n",
       "      <th>3</th>\n",
       "      <th>4</th>\n",
       "      <th>5</th>\n",
       "      <th>6</th>\n",
       "      <th>7</th>\n",
       "      <th>8</th>\n",
       "      <th>9</th>\n",
       "      <th>10</th>\n",
       "      <th>11</th>\n",
       "      <th>12</th>\n",
       "    </tr>\n",
       "    <tr>\n",
       "      <th>Day of Week</th>\n",
       "      <th></th>\n",
       "      <th></th>\n",
       "      <th></th>\n",
       "      <th></th>\n",
       "      <th></th>\n",
       "      <th></th>\n",
       "      <th></th>\n",
       "      <th></th>\n",
       "      <th></th>\n",
       "      <th></th>\n",
       "      <th></th>\n",
       "      <th></th>\n",
       "    </tr>\n",
       "  </thead>\n",
       "  <tbody>\n",
       "    <tr>\n",
       "      <th>Fri</th>\n",
       "      <td>9309</td>\n",
       "      <td>8255</td>\n",
       "      <td>10941</td>\n",
       "      <td>7997</td>\n",
       "      <td>8904</td>\n",
       "      <td>9207</td>\n",
       "      <td>8681</td>\n",
       "      <td>7336</td>\n",
       "      <td>7694</td>\n",
       "      <td>6934</td>\n",
       "      <td>8379</td>\n",
       "      <td>9305</td>\n",
       "    </tr>\n",
       "    <tr>\n",
       "      <th>Mon</th>\n",
       "      <td>8896</td>\n",
       "      <td>8747</td>\n",
       "      <td>8060</td>\n",
       "      <td>8410</td>\n",
       "      <td>7881</td>\n",
       "      <td>8511</td>\n",
       "      <td>9499</td>\n",
       "      <td>6854</td>\n",
       "      <td>6598</td>\n",
       "      <td>8075</td>\n",
       "      <td>6722</td>\n",
       "      <td>8492</td>\n",
       "    </tr>\n",
       "    <tr>\n",
       "      <th>Sat</th>\n",
       "      <td>8475</td>\n",
       "      <td>7593</td>\n",
       "      <td>8050</td>\n",
       "      <td>7514</td>\n",
       "      <td>7223</td>\n",
       "      <td>8198</td>\n",
       "      <td>7748</td>\n",
       "      <td>6111</td>\n",
       "      <td>6566</td>\n",
       "      <td>6609</td>\n",
       "      <td>6773</td>\n",
       "      <td>8592</td>\n",
       "    </tr>\n",
       "    <tr>\n",
       "      <th>Sun</th>\n",
       "      <td>7478</td>\n",
       "      <td>6452</td>\n",
       "      <td>6766</td>\n",
       "      <td>6865</td>\n",
       "      <td>6694</td>\n",
       "      <td>6837</td>\n",
       "      <td>7859</td>\n",
       "      <td>5275</td>\n",
       "      <td>5956</td>\n",
       "      <td>6316</td>\n",
       "      <td>5196</td>\n",
       "      <td>7165</td>\n",
       "    </tr>\n",
       "    <tr>\n",
       "      <th>Thu</th>\n",
       "      <td>9055</td>\n",
       "      <td>7997</td>\n",
       "      <td>8849</td>\n",
       "      <td>7722</td>\n",
       "      <td>8740</td>\n",
       "      <td>9489</td>\n",
       "      <td>8378</td>\n",
       "      <td>7508</td>\n",
       "      <td>6954</td>\n",
       "      <td>7482</td>\n",
       "      <td>8358</td>\n",
       "      <td>8151</td>\n",
       "    </tr>\n",
       "  </tbody>\n",
       "</table>\n",
       "</div>"
      ],
      "text/plain": [
       "Month          1     2      3     4     5     6     7     8     9     10  \\\n",
       "Day of Week                                                                \n",
       "Fri          9309  8255  10941  7997  8904  9207  8681  7336  7694  6934   \n",
       "Mon          8896  8747   8060  8410  7881  8511  9499  6854  6598  8075   \n",
       "Sat          8475  7593   8050  7514  7223  8198  7748  6111  6566  6609   \n",
       "Sun          7478  6452   6766  6865  6694  6837  7859  5275  5956  6316   \n",
       "Thu          9055  7997   8849  7722  8740  9489  8378  7508  6954  7482   \n",
       "\n",
       "Month          11    12  \n",
       "Day of Week              \n",
       "Fri          8379  9305  \n",
       "Mon          6722  8492  \n",
       "Sat          6773  8592  \n",
       "Sun          5196  7165  \n",
       "Thu          8358  8151  "
      ]
     },
     "execution_count": 29,
     "metadata": {},
     "output_type": "execute_result"
    }
   ],
   "source": [
    "dayMonth = df.groupby(by=['Day of Week','Month']).count()['Reason'].unstack()\n",
    "dayMonth.head()"
   ]
  },
  {
   "cell_type": "code",
   "execution_count": 30,
   "metadata": {
    "execution": {
     "iopub.execute_input": "2020-10-05T06:48:38.351256Z",
     "iopub.status.busy": "2020-10-05T06:48:38.346354Z",
     "iopub.status.idle": "2020-10-05T06:48:38.659327Z",
     "shell.execute_reply": "2020-10-05T06:48:38.658700Z"
    },
    "papermill": {
     "duration": 0.374108,
     "end_time": "2020-10-05T06:48:38.659452",
     "exception": false,
     "start_time": "2020-10-05T06:48:38.285344",
     "status": "completed"
    },
    "tags": []
   },
   "outputs": [
    {
     "data": {
      "text/plain": [
       "<matplotlib.axes._subplots.AxesSubplot at 0x7fdba1ad2110>"
      ]
     },
     "execution_count": 30,
     "metadata": {},
     "output_type": "execute_result"
    },
    {
     "data": {
      "image/png": "[encoded data removed]",
      "text/plain": [
       "<Figure size 864x432 with 2 Axes>"
      ]
     },
     "metadata": {
      "needs_background": "light"
     },
     "output_type": "display_data"
    }
   ],
   "source": [
    "plt.figure(figsize=(12,6))\n",
    "sns.heatmap(dayMonth,cmap='viridis')"
   ]
  },
  {
   "cell_type": "code",
   "execution_count": 31,
   "metadata": {
    "execution": {
     "iopub.execute_input": "2020-10-05T06:48:38.790193Z",
     "iopub.status.busy": "2020-10-05T06:48:38.789110Z",
     "iopub.status.idle": "2020-10-05T06:48:39.420952Z",
     "shell.execute_reply": "2020-10-05T06:48:39.421422Z"
    },
    "papermill": {
     "duration": 0.701619,
     "end_time": "2020-10-05T06:48:39.421586",
     "exception": false,
     "start_time": "2020-10-05T06:48:38.719967",
     "status": "completed"
    },
    "tags": []
   },
   "outputs": [
    {
     "data": {
      "text/plain": [
       "<seaborn.matrix.ClusterGrid at 0x7fdba1a08810>"
      ]
     },
     "execution_count": 31,
     "metadata": {},
     "output_type": "execute_result"
    },
    {
     "data": {
      "image/png": "[encoded data removed]",
      "text/plain": [
       "<Figure size 720x720 with 4 Axes>"
      ]
     },
     "metadata": {
      "needs_background": "light"
     },
     "output_type": "display_data"
    }
   ],
   "source": [
    "sns.clustermap(dayMonth,cmap='viridis')"
   ]
  },
  {
   "cell_type": "markdown",
   "metadata": {
    "papermill": {
     "duration": 0.05676,
     "end_time": "2020-10-05T06:48:39.535779",
     "exception": false,
     "start_time": "2020-10-05T06:48:39.479019",
     "status": "completed"
    },
    "tags": []
   },
   "source": [
    "# Data Analysis and Visualisation is Done\n",
    "Still there are many ways to do so..."
   ]
  }
 ],
 "metadata": {
  "kernelspec": {
   "display_name": "Python 3",
   "language": "python",
   "name": "python3"
  },
  "language_info": {
   "codemirror_mode": {
    "name": "ipython",
    "version": 3
   },
   "file_extension": ".py",
   "mimetype": "text/x-python",
   "name": "python",
   "nbconvert_exporter": "python",
   "pygments_lexer": "ipython3",
   "version": "3.7.6"
  },
  "papermill": {
   "duration": 42.219806,
   "end_time": "2020-10-05T06:48:39.825751",
   "environment_variables": {},
   "exception": null,
   "input_path": "__notebook__.ipynb",
   "output_path": "__notebook__.ipynb",
   "parameters": {},
   "start_time": "2020-10-05T06:47:57.605945",
   "version": "2.1.0"
  }
 },
 "nbformat": 4,
 "nbformat_minor": 4
}
